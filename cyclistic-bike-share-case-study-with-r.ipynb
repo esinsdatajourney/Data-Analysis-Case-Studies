{
 "cells": [
  {
   "cell_type": "markdown",
   "id": "132ab8ea",
   "metadata": {
    "papermill": {
     "duration": 0.010155,
     "end_time": "2024-11-20T15:53:18.528851",
     "exception": false,
     "start_time": "2024-11-20T15:53:18.518696",
     "status": "completed"
    },
    "tags": []
   },
   "source": [
    "## Table of Contents\n",
    "\n",
    "* [Introduction](#Introduction)\n",
    "* [Project Scenario](#Project-Scenario)\n",
    "* [Ask Phase](#Ask-Phase)\n",
    "* [Prepare Phase](#Prepare-Phase)\n",
    "* [Process Phase](#Process-Phase)\n",
    "* [Analyze Phase](#Analyze-Phase)\n",
    "* [Share Phase](#Share-Phase)\n",
    "* [Act Phase](#Act-Phase)"
   ]
  },
  {
   "cell_type": "markdown",
   "id": "9b3ba4a1",
   "metadata": {
    "_kg_hide-input": false,
    "_kg_hide-output": false,
    "papermill": {
     "duration": 0.010139,
     "end_time": "2024-11-20T15:53:18.548216",
     "exception": false,
     "start_time": "2024-11-20T15:53:18.538077",
     "status": "completed"
    },
    "tags": []
   },
   "source": [
    "<a id=\"Introduction\"></a>\n",
    "# Introduction \n",
    "\n",
    "As part of the [Google Data Analytics Professional Certificate](http://www.coursera.org/professional-certificates/google-data-analytics), I am excited to share my approach to the Cyclistic bike-share analysis case study. In this engaging case study, I am playing the role of a junior data analyst within the marketing team at Cyclistic, a fictional bike-share company based in Chicago, collaborating closely with key team members to tackle the business questions at hand and deliver insightful results.\n",
    "\n",
    "To carry out the project successfully, I follow a well-defined set of steps. Google's certificate program outlines the data analysis process, which includes the following stages: asking the right questions, preparing the data, processing it effectively, analyzing the findings, sharing the results, and taking appropriate actions. Within this notebook, I present a practical demonstration of how I apply these steps to analyze the given dataset.\n",
    "\n",
    "I've decided to go with the R programming language and the RStudio IDE for my analysis because it offers a range of user-friendly statistical analysis tools and data visualization capabilities.\n",
    "\n",
    "I also challenged myself to recreate the same project in SQLite to hone my SQL problem-solving skills. [You can check it out here.](https://www.kaggle.com/code/esinsari/sql-cyclistic-bike-share-case-study-with-sql)\n"
   ]
  },
  {
   "cell_type": "markdown",
   "id": "31dc091d",
   "metadata": {
    "papermill": {
     "duration": 0.009254,
     "end_time": "2024-11-20T15:53:18.568331",
     "exception": false,
     "start_time": "2024-11-20T15:53:18.559077",
     "status": "completed"
    },
    "tags": []
   },
   "source": [
    "<a id=\"Project-Scenario\"></a>\n",
    "## Project Scenario\n",
    "\n",
    "Cyclistic allows customers  the flexibility to pick up and drop off bikes at different stations within the system at their own convenience.  While the company's current marketing tactics have been effective in creating brand awareness and attracting various consumer segments through flexible pricing plans, the financial analysis has revealed that annual members generate significantly higher profits compared to casual riders. As a result, a shift towards targeting and converting more casual riders into annual members will be essential  for sustained growth.\n",
    "To achieve this goal, the marketing team needs to better understand how annual members and casual riders differ, why casual riders would buy a membership, and how digital media could affect their marketing tactics.\n"
   ]
  },
  {
   "cell_type": "markdown",
   "id": "3dc6da65",
   "metadata": {
    "papermill": {
     "duration": 0.008784,
     "end_time": "2024-11-20T15:53:18.586179",
     "exception": false,
     "start_time": "2024-11-20T15:53:18.577395",
     "status": "completed"
    },
    "tags": []
   },
   "source": [
    "<a id=\"Ask-Phase\"></a>\n",
    "## 1. Ask Phase\n",
    " \n",
    "Lily Moreno, our marketing director and my manager, has assigned me the important task of exploring **'How do annual members and casual riders use Cyclistic bikes differently?'** . By understanding how these two groups differ in their usage of Cyclistic bikes, we can tailor our marketing campaigns to better target each segment and encourage more people to become long-term members of our bike-sharing program."
   ]
  },
  {
   "cell_type": "markdown",
   "id": "cd3e5c81",
   "metadata": {
    "papermill": {
     "duration": 0.008912,
     "end_time": "2024-11-20T15:53:18.604269",
     "exception": false,
     "start_time": "2024-11-20T15:53:18.595357",
     "status": "completed"
    },
    "tags": []
   },
   "source": [
    "<a id=\"Prepare-Phase\"></a>\n",
    "## 2. Prepare Phase\n",
    "\n",
    "In order to identify trends, I will be closely examining the Cyclistic historical bike trip data over a 12-month period, starting from March 2023 and ending in February 2024. Motivate International Inc. has provided the data under this [license](http://www.divvybikes.com/data-license-agreement) for public access. The datasets, which are in the form of 'csv' files, can be found [here](http://divvy-tripdata.s3.amazonaws.com/index.html).\n",
    "\n",
    "\n",
    "\n"
   ]
  },
  {
   "cell_type": "markdown",
   "id": "7627d4d7",
   "metadata": {
    "papermill": {
     "duration": 0.008923,
     "end_time": "2024-11-20T15:53:18.622100",
     "exception": false,
     "start_time": "2024-11-20T15:53:18.613177",
     "status": "completed"
    },
    "tags": []
   },
   "source": [
    "**Data Fields**\n",
    "\n",
    "\n",
    "* ride_id -- unique identifier of a particular bike trip\n",
    "* rideable_type -- type of bike used (classic bikes, electric bikes)\n",
    "* started_at -- date and time when the bike was removed from a dock\n",
    "* ended_at -- date and time when the bike was returned to a dock\n",
    "* start_station_name -- location of the starting docking station\n",
    "* start_station_id -- alphanumeric identifier of the starting dock\n",
    "* end_station_name -- location of the ending docking station\n",
    "* end_station_id -- alphanumeric identifier of the ending dock\n",
    "* start_lat -- latitude of the starting docking station\n",
    "* start_lng -- longitude of the starting docking station\n",
    "* end_lat -- latitude of the ending docking station\n",
    "* end_lng -- longitude of the ending docking station\n",
    "* member_casual -- type of rider (casual rider or member)"
   ]
  },
  {
   "cell_type": "code",
   "execution_count": 1,
   "id": "b915df37",
   "metadata": {
    "execution": {
     "iopub.execute_input": "2024-11-20T15:53:18.644312Z",
     "iopub.status.busy": "2024-11-20T15:53:18.642333Z",
     "iopub.status.idle": "2024-11-20T15:54:56.341212Z",
     "shell.execute_reply": "2024-11-20T15:54:56.339457Z"
    },
    "papermill": {
     "duration": 97.712601,
     "end_time": "2024-11-20T15:54:56.343999",
     "exception": false,
     "start_time": "2024-11-20T15:53:18.631398",
     "status": "completed"
    },
    "tags": []
   },
   "outputs": [
    {
     "name": "stderr",
     "output_type": "stream",
     "text": [
      "Installing packages into ‘/usr/local/lib/R/site-library’\n",
      "(as ‘lib’ is unspecified)\n",
      "\n",
      "Warning message:\n",
      "“unable to access index for repository http://cran.rstudio.com/src/contrib:\n",
      "  cannot open URL 'http://cran.rstudio.com/src/contrib/PACKAGES'”\n",
      "Warning message:\n",
      "“packages ‘tidyverse’, ‘lubridate’, ‘janitor’, ‘data.table’, ‘skimr’, ‘leaflet’ are not available for this version of R\n",
      "\n",
      "Versions of these packages for your version of R might be available elsewhere,\n",
      "see the ideas at\n",
      "https://cran.r-project.org/doc/manuals/r-patched/R-admin.html#Installing-packages”\n",
      "── \u001b[1mAttaching core tidyverse packages\u001b[22m ──────────────────────── tidyverse 2.0.0 ──\n",
      "\u001b[32m✔\u001b[39m \u001b[34mdplyr    \u001b[39m 1.1.4     \u001b[32m✔\u001b[39m \u001b[34mreadr    \u001b[39m 2.1.4\n",
      "\u001b[32m✔\u001b[39m \u001b[34mforcats  \u001b[39m 1.0.0     \u001b[32m✔\u001b[39m \u001b[34mstringr  \u001b[39m 1.5.1\n",
      "\u001b[32m✔\u001b[39m \u001b[34mggplot2  \u001b[39m 3.4.4     \u001b[32m✔\u001b[39m \u001b[34mtibble   \u001b[39m 3.2.1\n",
      "\u001b[32m✔\u001b[39m \u001b[34mlubridate\u001b[39m 1.9.3     \u001b[32m✔\u001b[39m \u001b[34mtidyr    \u001b[39m 1.3.0\n",
      "\u001b[32m✔\u001b[39m \u001b[34mpurrr    \u001b[39m 1.0.2     \n",
      "── \u001b[1mConflicts\u001b[22m ────────────────────────────────────────── tidyverse_conflicts() ──\n",
      "\u001b[31m✖\u001b[39m \u001b[34mdplyr\u001b[39m::\u001b[32mfilter()\u001b[39m masks \u001b[34mstats\u001b[39m::filter()\n",
      "\u001b[31m✖\u001b[39m \u001b[34mdplyr\u001b[39m::\u001b[32mlag()\u001b[39m    masks \u001b[34mstats\u001b[39m::lag()\n",
      "\u001b[36mℹ\u001b[39m Use the conflicted package (\u001b[3m\u001b[34m<http://conflicted.r-lib.org/>\u001b[39m\u001b[23m) to force all conflicts to become errors\n",
      "\n",
      "Attaching package: ‘janitor’\n",
      "\n",
      "\n",
      "The following objects are masked from ‘package:stats’:\n",
      "\n",
      "    chisq.test, fisher.test\n",
      "\n",
      "\n",
      "\n",
      "Attaching package: ‘data.table’\n",
      "\n",
      "\n",
      "The following objects are masked from ‘package:lubridate’:\n",
      "\n",
      "    hour, isoweek, mday, minute, month, quarter, second, wday, week,\n",
      "    yday, year\n",
      "\n",
      "\n",
      "The following objects are masked from ‘package:dplyr’:\n",
      "\n",
      "    between, first, last\n",
      "\n",
      "\n",
      "The following object is masked from ‘package:purrr’:\n",
      "\n",
      "    transpose\n",
      "\n",
      "\n",
      "\n",
      "Attaching package: ‘scales’\n",
      "\n",
      "\n",
      "The following object is masked from ‘package:purrr’:\n",
      "\n",
      "    discard\n",
      "\n",
      "\n",
      "The following object is masked from ‘package:readr’:\n",
      "\n",
      "    col_factor\n",
      "\n",
      "\n"
     ]
    }
   ],
   "source": [
    "# Install and load necessary packages\n",
    "\n",
    "install.packages(c(\"tidyverse\", \"lubridate\", \"janitor\", \"data.table\", \"skimr\", \"leaflet\"))\n",
    "\n",
    "\n",
    "library(tidyverse)\n",
    "library(ggplot2)\n",
    "library(tibble)\n",
    "library(lubridate)\n",
    "library(janitor)\n",
    "library(data.table)\n",
    "library(skimr)\n",
    "library(leaflet)\n",
    "library(dplyr)\n",
    "library(readr)\n",
    "library(scales)\n",
    "library(purrr)"
   ]
  },
  {
   "cell_type": "code",
   "execution_count": 2,
   "id": "99582a8a",
   "metadata": {
    "execution": {
     "iopub.execute_input": "2024-11-20T15:54:56.398277Z",
     "iopub.status.busy": "2024-11-20T15:54:56.369548Z",
     "iopub.status.idle": "2024-11-20T15:56:35.951560Z",
     "shell.execute_reply": "2024-11-20T15:56:35.949634Z"
    },
    "papermill": {
     "duration": 99.596706,
     "end_time": "2024-11-20T15:56:35.953981",
     "exception": false,
     "start_time": "2024-11-20T15:54:56.357275",
     "status": "completed"
    },
    "tags": []
   },
   "outputs": [],
   "source": [
    "# Upload all csv files\n",
    "\n",
    "mar23 <- read.csv(\"../input/cyclistic-bike-share-data/202303-divvy-tripdata.csv\")\n",
    "apr23 <- read.csv(\"../input/cyclistic-bike-share-data/202304-divvy-tripdata.csv\")\n",
    "may23 <- read.csv(\"../input/cyclistic-bike-share-data/202305-divvy-tripdata.csv\")\n",
    "jun23 <- read.csv(\"../input/cyclistic-bike-share-data/202306-divvy-tripdata.csv\")\n",
    "jul23 <- read.csv(\"../input/cyclistic-bike-share-data/202307-divvy-tripdata.csv\")\n",
    "aug23 <- read.csv(\"../input/cyclistic-bike-share-data/202308-divvy-tripdata.csv\")\n",
    "sep23 <- read.csv(\"../input/cyclistic-bike-share-data/202309-divvy-tripdata.csv\")\n",
    "oct23 <- read.csv(\"../input/cyclistic-bike-share-data/202310-divvy-tripdata.csv\")\n",
    "nov23 <- read.csv(\"../input/cyclistic-bike-share-data/202311-divvy-tripdata.csv\")\n",
    "dec23 <- read.csv(\"../input/cyclistic-bike-share-data/202312-divvy-tripdata.csv\")\n",
    "jan24 <- read.csv(\"../input/cyclistic-bike-share-data/202401-divvy-tripdata.csv\")\n",
    "feb24 <- read.csv(\"../input/cyclistic-bike-share-data/202402-divvy-tripdata.csv\")"
   ]
  },
  {
   "cell_type": "markdown",
   "id": "76947730",
   "metadata": {
    "papermill": {
     "duration": 0.010219,
     "end_time": "2024-11-20T15:56:35.974321",
     "exception": false,
     "start_time": "2024-11-20T15:56:35.964102",
     "status": "completed"
    },
    "tags": []
   },
   "source": [
    "<a id=\"Process-Phase\"></a>\n",
    "## 3. Process Phase\n",
    "\n",
    "* After a detailed examination of the structure, I have verified that all 12 CSV files have shared attributes, such as matching column names and data types.\n"
   ]
  },
  {
   "cell_type": "code",
   "execution_count": 3,
   "id": "ae77db14",
   "metadata": {
    "execution": {
     "iopub.execute_input": "2024-11-20T15:56:35.997933Z",
     "iopub.status.busy": "2024-11-20T15:56:35.996304Z",
     "iopub.status.idle": "2024-11-20T15:56:36.076919Z",
     "shell.execute_reply": "2024-11-20T15:56:36.075145Z"
    },
    "papermill": {
     "duration": 0.09501,
     "end_time": "2024-11-20T15:56:36.079187",
     "exception": false,
     "start_time": "2024-11-20T15:56:35.984177",
     "status": "completed"
    },
    "tags": []
   },
   "outputs": [
    {
     "data": {
      "text/html": [
       "<style>\n",
       ".list-inline {list-style: none; margin:0; padding: 0}\n",
       ".list-inline>li {display: inline-block}\n",
       ".list-inline>li:not(:last-child)::after {content: \"\\00b7\"; padding: 0 .5ex}\n",
       "</style>\n",
       "<ol class=list-inline><li>'ride_id'</li><li>'rideable_type'</li><li>'started_at'</li><li>'ended_at'</li><li>'start_station_name'</li><li>'start_station_id'</li><li>'end_station_name'</li><li>'end_station_id'</li><li>'start_lat'</li><li>'start_lng'</li><li>'end_lat'</li><li>'end_lng'</li><li>'member_casual'</li></ol>\n"
      ],
      "text/latex": [
       "\\begin{enumerate*}\n",
       "\\item 'ride\\_id'\n",
       "\\item 'rideable\\_type'\n",
       "\\item 'started\\_at'\n",
       "\\item 'ended\\_at'\n",
       "\\item 'start\\_station\\_name'\n",
       "\\item 'start\\_station\\_id'\n",
       "\\item 'end\\_station\\_name'\n",
       "\\item 'end\\_station\\_id'\n",
       "\\item 'start\\_lat'\n",
       "\\item 'start\\_lng'\n",
       "\\item 'end\\_lat'\n",
       "\\item 'end\\_lng'\n",
       "\\item 'member\\_casual'\n",
       "\\end{enumerate*}\n"
      ],
      "text/markdown": [
       "1. 'ride_id'\n",
       "2. 'rideable_type'\n",
       "3. 'started_at'\n",
       "4. 'ended_at'\n",
       "5. 'start_station_name'\n",
       "6. 'start_station_id'\n",
       "7. 'end_station_name'\n",
       "8. 'end_station_id'\n",
       "9. 'start_lat'\n",
       "10. 'start_lng'\n",
       "11. 'end_lat'\n",
       "12. 'end_lng'\n",
       "13. 'member_casual'\n",
       "\n",
       "\n"
      ],
      "text/plain": [
       " [1] \"ride_id\"            \"rideable_type\"      \"started_at\"        \n",
       " [4] \"ended_at\"           \"start_station_name\" \"start_station_id\"  \n",
       " [7] \"end_station_name\"   \"end_station_id\"     \"start_lat\"         \n",
       "[10] \"start_lng\"          \"end_lat\"            \"end_lng\"           \n",
       "[13] \"member_casual\"     "
      ]
     },
     "metadata": {},
     "output_type": "display_data"
    },
    {
     "data": {
      "text/html": [
       "<style>\n",
       ".list-inline {list-style: none; margin:0; padding: 0}\n",
       ".list-inline>li {display: inline-block}\n",
       ".list-inline>li:not(:last-child)::after {content: \"\\00b7\"; padding: 0 .5ex}\n",
       "</style>\n",
       "<ol class=list-inline><li>'ride_id'</li><li>'rideable_type'</li><li>'started_at'</li><li>'ended_at'</li><li>'start_station_name'</li><li>'start_station_id'</li><li>'end_station_name'</li><li>'end_station_id'</li><li>'start_lat'</li><li>'start_lng'</li><li>'end_lat'</li><li>'end_lng'</li><li>'member_casual'</li></ol>\n"
      ],
      "text/latex": [
       "\\begin{enumerate*}\n",
       "\\item 'ride\\_id'\n",
       "\\item 'rideable\\_type'\n",
       "\\item 'started\\_at'\n",
       "\\item 'ended\\_at'\n",
       "\\item 'start\\_station\\_name'\n",
       "\\item 'start\\_station\\_id'\n",
       "\\item 'end\\_station\\_name'\n",
       "\\item 'end\\_station\\_id'\n",
       "\\item 'start\\_lat'\n",
       "\\item 'start\\_lng'\n",
       "\\item 'end\\_lat'\n",
       "\\item 'end\\_lng'\n",
       "\\item 'member\\_casual'\n",
       "\\end{enumerate*}\n"
      ],
      "text/markdown": [
       "1. 'ride_id'\n",
       "2. 'rideable_type'\n",
       "3. 'started_at'\n",
       "4. 'ended_at'\n",
       "5. 'start_station_name'\n",
       "6. 'start_station_id'\n",
       "7. 'end_station_name'\n",
       "8. 'end_station_id'\n",
       "9. 'start_lat'\n",
       "10. 'start_lng'\n",
       "11. 'end_lat'\n",
       "12. 'end_lng'\n",
       "13. 'member_casual'\n",
       "\n",
       "\n"
      ],
      "text/plain": [
       " [1] \"ride_id\"            \"rideable_type\"      \"started_at\"        \n",
       " [4] \"ended_at\"           \"start_station_name\" \"start_station_id\"  \n",
       " [7] \"end_station_name\"   \"end_station_id\"     \"start_lat\"         \n",
       "[10] \"start_lng\"          \"end_lat\"            \"end_lng\"           \n",
       "[13] \"member_casual\"     "
      ]
     },
     "metadata": {},
     "output_type": "display_data"
    },
    {
     "data": {
      "text/html": [
       "<style>\n",
       ".list-inline {list-style: none; margin:0; padding: 0}\n",
       ".list-inline>li {display: inline-block}\n",
       ".list-inline>li:not(:last-child)::after {content: \"\\00b7\"; padding: 0 .5ex}\n",
       "</style>\n",
       "<ol class=list-inline><li>'ride_id'</li><li>'rideable_type'</li><li>'started_at'</li><li>'ended_at'</li><li>'start_station_name'</li><li>'start_station_id'</li><li>'end_station_name'</li><li>'end_station_id'</li><li>'start_lat'</li><li>'start_lng'</li><li>'end_lat'</li><li>'end_lng'</li><li>'member_casual'</li></ol>\n"
      ],
      "text/latex": [
       "\\begin{enumerate*}\n",
       "\\item 'ride\\_id'\n",
       "\\item 'rideable\\_type'\n",
       "\\item 'started\\_at'\n",
       "\\item 'ended\\_at'\n",
       "\\item 'start\\_station\\_name'\n",
       "\\item 'start\\_station\\_id'\n",
       "\\item 'end\\_station\\_name'\n",
       "\\item 'end\\_station\\_id'\n",
       "\\item 'start\\_lat'\n",
       "\\item 'start\\_lng'\n",
       "\\item 'end\\_lat'\n",
       "\\item 'end\\_lng'\n",
       "\\item 'member\\_casual'\n",
       "\\end{enumerate*}\n"
      ],
      "text/markdown": [
       "1. 'ride_id'\n",
       "2. 'rideable_type'\n",
       "3. 'started_at'\n",
       "4. 'ended_at'\n",
       "5. 'start_station_name'\n",
       "6. 'start_station_id'\n",
       "7. 'end_station_name'\n",
       "8. 'end_station_id'\n",
       "9. 'start_lat'\n",
       "10. 'start_lng'\n",
       "11. 'end_lat'\n",
       "12. 'end_lng'\n",
       "13. 'member_casual'\n",
       "\n",
       "\n"
      ],
      "text/plain": [
       " [1] \"ride_id\"            \"rideable_type\"      \"started_at\"        \n",
       " [4] \"ended_at\"           \"start_station_name\" \"start_station_id\"  \n",
       " [7] \"end_station_name\"   \"end_station_id\"     \"start_lat\"         \n",
       "[10] \"start_lng\"          \"end_lat\"            \"end_lng\"           \n",
       "[13] \"member_casual\"     "
      ]
     },
     "metadata": {},
     "output_type": "display_data"
    },
    {
     "data": {
      "text/html": [
       "<style>\n",
       ".list-inline {list-style: none; margin:0; padding: 0}\n",
       ".list-inline>li {display: inline-block}\n",
       ".list-inline>li:not(:last-child)::after {content: \"\\00b7\"; padding: 0 .5ex}\n",
       "</style>\n",
       "<ol class=list-inline><li>'ride_id'</li><li>'rideable_type'</li><li>'started_at'</li><li>'ended_at'</li><li>'start_station_name'</li><li>'start_station_id'</li><li>'end_station_name'</li><li>'end_station_id'</li><li>'start_lat'</li><li>'start_lng'</li><li>'end_lat'</li><li>'end_lng'</li><li>'member_casual'</li></ol>\n"
      ],
      "text/latex": [
       "\\begin{enumerate*}\n",
       "\\item 'ride\\_id'\n",
       "\\item 'rideable\\_type'\n",
       "\\item 'started\\_at'\n",
       "\\item 'ended\\_at'\n",
       "\\item 'start\\_station\\_name'\n",
       "\\item 'start\\_station\\_id'\n",
       "\\item 'end\\_station\\_name'\n",
       "\\item 'end\\_station\\_id'\n",
       "\\item 'start\\_lat'\n",
       "\\item 'start\\_lng'\n",
       "\\item 'end\\_lat'\n",
       "\\item 'end\\_lng'\n",
       "\\item 'member\\_casual'\n",
       "\\end{enumerate*}\n"
      ],
      "text/markdown": [
       "1. 'ride_id'\n",
       "2. 'rideable_type'\n",
       "3. 'started_at'\n",
       "4. 'ended_at'\n",
       "5. 'start_station_name'\n",
       "6. 'start_station_id'\n",
       "7. 'end_station_name'\n",
       "8. 'end_station_id'\n",
       "9. 'start_lat'\n",
       "10. 'start_lng'\n",
       "11. 'end_lat'\n",
       "12. 'end_lng'\n",
       "13. 'member_casual'\n",
       "\n",
       "\n"
      ],
      "text/plain": [
       " [1] \"ride_id\"            \"rideable_type\"      \"started_at\"        \n",
       " [4] \"ended_at\"           \"start_station_name\" \"start_station_id\"  \n",
       " [7] \"end_station_name\"   \"end_station_id\"     \"start_lat\"         \n",
       "[10] \"start_lng\"          \"end_lat\"            \"end_lng\"           \n",
       "[13] \"member_casual\"     "
      ]
     },
     "metadata": {},
     "output_type": "display_data"
    },
    {
     "data": {
      "text/html": [
       "<style>\n",
       ".list-inline {list-style: none; margin:0; padding: 0}\n",
       ".list-inline>li {display: inline-block}\n",
       ".list-inline>li:not(:last-child)::after {content: \"\\00b7\"; padding: 0 .5ex}\n",
       "</style>\n",
       "<ol class=list-inline><li>'ride_id'</li><li>'rideable_type'</li><li>'started_at'</li><li>'ended_at'</li><li>'start_station_name'</li><li>'start_station_id'</li><li>'end_station_name'</li><li>'end_station_id'</li><li>'start_lat'</li><li>'start_lng'</li><li>'end_lat'</li><li>'end_lng'</li><li>'member_casual'</li></ol>\n"
      ],
      "text/latex": [
       "\\begin{enumerate*}\n",
       "\\item 'ride\\_id'\n",
       "\\item 'rideable\\_type'\n",
       "\\item 'started\\_at'\n",
       "\\item 'ended\\_at'\n",
       "\\item 'start\\_station\\_name'\n",
       "\\item 'start\\_station\\_id'\n",
       "\\item 'end\\_station\\_name'\n",
       "\\item 'end\\_station\\_id'\n",
       "\\item 'start\\_lat'\n",
       "\\item 'start\\_lng'\n",
       "\\item 'end\\_lat'\n",
       "\\item 'end\\_lng'\n",
       "\\item 'member\\_casual'\n",
       "\\end{enumerate*}\n"
      ],
      "text/markdown": [
       "1. 'ride_id'\n",
       "2. 'rideable_type'\n",
       "3. 'started_at'\n",
       "4. 'ended_at'\n",
       "5. 'start_station_name'\n",
       "6. 'start_station_id'\n",
       "7. 'end_station_name'\n",
       "8. 'end_station_id'\n",
       "9. 'start_lat'\n",
       "10. 'start_lng'\n",
       "11. 'end_lat'\n",
       "12. 'end_lng'\n",
       "13. 'member_casual'\n",
       "\n",
       "\n"
      ],
      "text/plain": [
       " [1] \"ride_id\"            \"rideable_type\"      \"started_at\"        \n",
       " [4] \"ended_at\"           \"start_station_name\" \"start_station_id\"  \n",
       " [7] \"end_station_name\"   \"end_station_id\"     \"start_lat\"         \n",
       "[10] \"start_lng\"          \"end_lat\"            \"end_lng\"           \n",
       "[13] \"member_casual\"     "
      ]
     },
     "metadata": {},
     "output_type": "display_data"
    },
    {
     "data": {
      "text/html": [
       "<style>\n",
       ".list-inline {list-style: none; margin:0; padding: 0}\n",
       ".list-inline>li {display: inline-block}\n",
       ".list-inline>li:not(:last-child)::after {content: \"\\00b7\"; padding: 0 .5ex}\n",
       "</style>\n",
       "<ol class=list-inline><li>'ride_id'</li><li>'rideable_type'</li><li>'started_at'</li><li>'ended_at'</li><li>'start_station_name'</li><li>'start_station_id'</li><li>'end_station_name'</li><li>'end_station_id'</li><li>'start_lat'</li><li>'start_lng'</li><li>'end_lat'</li><li>'end_lng'</li><li>'member_casual'</li></ol>\n"
      ],
      "text/latex": [
       "\\begin{enumerate*}\n",
       "\\item 'ride\\_id'\n",
       "\\item 'rideable\\_type'\n",
       "\\item 'started\\_at'\n",
       "\\item 'ended\\_at'\n",
       "\\item 'start\\_station\\_name'\n",
       "\\item 'start\\_station\\_id'\n",
       "\\item 'end\\_station\\_name'\n",
       "\\item 'end\\_station\\_id'\n",
       "\\item 'start\\_lat'\n",
       "\\item 'start\\_lng'\n",
       "\\item 'end\\_lat'\n",
       "\\item 'end\\_lng'\n",
       "\\item 'member\\_casual'\n",
       "\\end{enumerate*}\n"
      ],
      "text/markdown": [
       "1. 'ride_id'\n",
       "2. 'rideable_type'\n",
       "3. 'started_at'\n",
       "4. 'ended_at'\n",
       "5. 'start_station_name'\n",
       "6. 'start_station_id'\n",
       "7. 'end_station_name'\n",
       "8. 'end_station_id'\n",
       "9. 'start_lat'\n",
       "10. 'start_lng'\n",
       "11. 'end_lat'\n",
       "12. 'end_lng'\n",
       "13. 'member_casual'\n",
       "\n",
       "\n"
      ],
      "text/plain": [
       " [1] \"ride_id\"            \"rideable_type\"      \"started_at\"        \n",
       " [4] \"ended_at\"           \"start_station_name\" \"start_station_id\"  \n",
       " [7] \"end_station_name\"   \"end_station_id\"     \"start_lat\"         \n",
       "[10] \"start_lng\"          \"end_lat\"            \"end_lng\"           \n",
       "[13] \"member_casual\"     "
      ]
     },
     "metadata": {},
     "output_type": "display_data"
    },
    {
     "data": {
      "text/html": [
       "<style>\n",
       ".list-inline {list-style: none; margin:0; padding: 0}\n",
       ".list-inline>li {display: inline-block}\n",
       ".list-inline>li:not(:last-child)::after {content: \"\\00b7\"; padding: 0 .5ex}\n",
       "</style>\n",
       "<ol class=list-inline><li>'ride_id'</li><li>'rideable_type'</li><li>'started_at'</li><li>'ended_at'</li><li>'start_station_name'</li><li>'start_station_id'</li><li>'end_station_name'</li><li>'end_station_id'</li><li>'start_lat'</li><li>'start_lng'</li><li>'end_lat'</li><li>'end_lng'</li><li>'member_casual'</li></ol>\n"
      ],
      "text/latex": [
       "\\begin{enumerate*}\n",
       "\\item 'ride\\_id'\n",
       "\\item 'rideable\\_type'\n",
       "\\item 'started\\_at'\n",
       "\\item 'ended\\_at'\n",
       "\\item 'start\\_station\\_name'\n",
       "\\item 'start\\_station\\_id'\n",
       "\\item 'end\\_station\\_name'\n",
       "\\item 'end\\_station\\_id'\n",
       "\\item 'start\\_lat'\n",
       "\\item 'start\\_lng'\n",
       "\\item 'end\\_lat'\n",
       "\\item 'end\\_lng'\n",
       "\\item 'member\\_casual'\n",
       "\\end{enumerate*}\n"
      ],
      "text/markdown": [
       "1. 'ride_id'\n",
       "2. 'rideable_type'\n",
       "3. 'started_at'\n",
       "4. 'ended_at'\n",
       "5. 'start_station_name'\n",
       "6. 'start_station_id'\n",
       "7. 'end_station_name'\n",
       "8. 'end_station_id'\n",
       "9. 'start_lat'\n",
       "10. 'start_lng'\n",
       "11. 'end_lat'\n",
       "12. 'end_lng'\n",
       "13. 'member_casual'\n",
       "\n",
       "\n"
      ],
      "text/plain": [
       " [1] \"ride_id\"            \"rideable_type\"      \"started_at\"        \n",
       " [4] \"ended_at\"           \"start_station_name\" \"start_station_id\"  \n",
       " [7] \"end_station_name\"   \"end_station_id\"     \"start_lat\"         \n",
       "[10] \"start_lng\"          \"end_lat\"            \"end_lng\"           \n",
       "[13] \"member_casual\"     "
      ]
     },
     "metadata": {},
     "output_type": "display_data"
    },
    {
     "data": {
      "text/html": [
       "<style>\n",
       ".list-inline {list-style: none; margin:0; padding: 0}\n",
       ".list-inline>li {display: inline-block}\n",
       ".list-inline>li:not(:last-child)::after {content: \"\\00b7\"; padding: 0 .5ex}\n",
       "</style>\n",
       "<ol class=list-inline><li>'ride_id'</li><li>'rideable_type'</li><li>'started_at'</li><li>'ended_at'</li><li>'start_station_name'</li><li>'start_station_id'</li><li>'end_station_name'</li><li>'end_station_id'</li><li>'start_lat'</li><li>'start_lng'</li><li>'end_lat'</li><li>'end_lng'</li><li>'member_casual'</li></ol>\n"
      ],
      "text/latex": [
       "\\begin{enumerate*}\n",
       "\\item 'ride\\_id'\n",
       "\\item 'rideable\\_type'\n",
       "\\item 'started\\_at'\n",
       "\\item 'ended\\_at'\n",
       "\\item 'start\\_station\\_name'\n",
       "\\item 'start\\_station\\_id'\n",
       "\\item 'end\\_station\\_name'\n",
       "\\item 'end\\_station\\_id'\n",
       "\\item 'start\\_lat'\n",
       "\\item 'start\\_lng'\n",
       "\\item 'end\\_lat'\n",
       "\\item 'end\\_lng'\n",
       "\\item 'member\\_casual'\n",
       "\\end{enumerate*}\n"
      ],
      "text/markdown": [
       "1. 'ride_id'\n",
       "2. 'rideable_type'\n",
       "3. 'started_at'\n",
       "4. 'ended_at'\n",
       "5. 'start_station_name'\n",
       "6. 'start_station_id'\n",
       "7. 'end_station_name'\n",
       "8. 'end_station_id'\n",
       "9. 'start_lat'\n",
       "10. 'start_lng'\n",
       "11. 'end_lat'\n",
       "12. 'end_lng'\n",
       "13. 'member_casual'\n",
       "\n",
       "\n"
      ],
      "text/plain": [
       " [1] \"ride_id\"            \"rideable_type\"      \"started_at\"        \n",
       " [4] \"ended_at\"           \"start_station_name\" \"start_station_id\"  \n",
       " [7] \"end_station_name\"   \"end_station_id\"     \"start_lat\"         \n",
       "[10] \"start_lng\"          \"end_lat\"            \"end_lng\"           \n",
       "[13] \"member_casual\"     "
      ]
     },
     "metadata": {},
     "output_type": "display_data"
    },
    {
     "data": {
      "text/html": [
       "<style>\n",
       ".list-inline {list-style: none; margin:0; padding: 0}\n",
       ".list-inline>li {display: inline-block}\n",
       ".list-inline>li:not(:last-child)::after {content: \"\\00b7\"; padding: 0 .5ex}\n",
       "</style>\n",
       "<ol class=list-inline><li>'ride_id'</li><li>'rideable_type'</li><li>'started_at'</li><li>'ended_at'</li><li>'start_station_name'</li><li>'start_station_id'</li><li>'end_station_name'</li><li>'end_station_id'</li><li>'start_lat'</li><li>'start_lng'</li><li>'end_lat'</li><li>'end_lng'</li><li>'member_casual'</li></ol>\n"
      ],
      "text/latex": [
       "\\begin{enumerate*}\n",
       "\\item 'ride\\_id'\n",
       "\\item 'rideable\\_type'\n",
       "\\item 'started\\_at'\n",
       "\\item 'ended\\_at'\n",
       "\\item 'start\\_station\\_name'\n",
       "\\item 'start\\_station\\_id'\n",
       "\\item 'end\\_station\\_name'\n",
       "\\item 'end\\_station\\_id'\n",
       "\\item 'start\\_lat'\n",
       "\\item 'start\\_lng'\n",
       "\\item 'end\\_lat'\n",
       "\\item 'end\\_lng'\n",
       "\\item 'member\\_casual'\n",
       "\\end{enumerate*}\n"
      ],
      "text/markdown": [
       "1. 'ride_id'\n",
       "2. 'rideable_type'\n",
       "3. 'started_at'\n",
       "4. 'ended_at'\n",
       "5. 'start_station_name'\n",
       "6. 'start_station_id'\n",
       "7. 'end_station_name'\n",
       "8. 'end_station_id'\n",
       "9. 'start_lat'\n",
       "10. 'start_lng'\n",
       "11. 'end_lat'\n",
       "12. 'end_lng'\n",
       "13. 'member_casual'\n",
       "\n",
       "\n"
      ],
      "text/plain": [
       " [1] \"ride_id\"            \"rideable_type\"      \"started_at\"        \n",
       " [4] \"ended_at\"           \"start_station_name\" \"start_station_id\"  \n",
       " [7] \"end_station_name\"   \"end_station_id\"     \"start_lat\"         \n",
       "[10] \"start_lng\"          \"end_lat\"            \"end_lng\"           \n",
       "[13] \"member_casual\"     "
      ]
     },
     "metadata": {},
     "output_type": "display_data"
    },
    {
     "data": {
      "text/html": [
       "<style>\n",
       ".list-inline {list-style: none; margin:0; padding: 0}\n",
       ".list-inline>li {display: inline-block}\n",
       ".list-inline>li:not(:last-child)::after {content: \"\\00b7\"; padding: 0 .5ex}\n",
       "</style>\n",
       "<ol class=list-inline><li>'ride_id'</li><li>'rideable_type'</li><li>'started_at'</li><li>'ended_at'</li><li>'start_station_name'</li><li>'start_station_id'</li><li>'end_station_name'</li><li>'end_station_id'</li><li>'start_lat'</li><li>'start_lng'</li><li>'end_lat'</li><li>'end_lng'</li><li>'member_casual'</li></ol>\n"
      ],
      "text/latex": [
       "\\begin{enumerate*}\n",
       "\\item 'ride\\_id'\n",
       "\\item 'rideable\\_type'\n",
       "\\item 'started\\_at'\n",
       "\\item 'ended\\_at'\n",
       "\\item 'start\\_station\\_name'\n",
       "\\item 'start\\_station\\_id'\n",
       "\\item 'end\\_station\\_name'\n",
       "\\item 'end\\_station\\_id'\n",
       "\\item 'start\\_lat'\n",
       "\\item 'start\\_lng'\n",
       "\\item 'end\\_lat'\n",
       "\\item 'end\\_lng'\n",
       "\\item 'member\\_casual'\n",
       "\\end{enumerate*}\n"
      ],
      "text/markdown": [
       "1. 'ride_id'\n",
       "2. 'rideable_type'\n",
       "3. 'started_at'\n",
       "4. 'ended_at'\n",
       "5. 'start_station_name'\n",
       "6. 'start_station_id'\n",
       "7. 'end_station_name'\n",
       "8. 'end_station_id'\n",
       "9. 'start_lat'\n",
       "10. 'start_lng'\n",
       "11. 'end_lat'\n",
       "12. 'end_lng'\n",
       "13. 'member_casual'\n",
       "\n",
       "\n"
      ],
      "text/plain": [
       " [1] \"ride_id\"            \"rideable_type\"      \"started_at\"        \n",
       " [4] \"ended_at\"           \"start_station_name\" \"start_station_id\"  \n",
       " [7] \"end_station_name\"   \"end_station_id\"     \"start_lat\"         \n",
       "[10] \"start_lng\"          \"end_lat\"            \"end_lng\"           \n",
       "[13] \"member_casual\"     "
      ]
     },
     "metadata": {},
     "output_type": "display_data"
    },
    {
     "data": {
      "text/html": [
       "<style>\n",
       ".list-inline {list-style: none; margin:0; padding: 0}\n",
       ".list-inline>li {display: inline-block}\n",
       ".list-inline>li:not(:last-child)::after {content: \"\\00b7\"; padding: 0 .5ex}\n",
       "</style>\n",
       "<ol class=list-inline><li>'ride_id'</li><li>'rideable_type'</li><li>'started_at'</li><li>'ended_at'</li><li>'start_station_name'</li><li>'start_station_id'</li><li>'end_station_name'</li><li>'end_station_id'</li><li>'start_lat'</li><li>'start_lng'</li><li>'end_lat'</li><li>'end_lng'</li><li>'member_casual'</li></ol>\n"
      ],
      "text/latex": [
       "\\begin{enumerate*}\n",
       "\\item 'ride\\_id'\n",
       "\\item 'rideable\\_type'\n",
       "\\item 'started\\_at'\n",
       "\\item 'ended\\_at'\n",
       "\\item 'start\\_station\\_name'\n",
       "\\item 'start\\_station\\_id'\n",
       "\\item 'end\\_station\\_name'\n",
       "\\item 'end\\_station\\_id'\n",
       "\\item 'start\\_lat'\n",
       "\\item 'start\\_lng'\n",
       "\\item 'end\\_lat'\n",
       "\\item 'end\\_lng'\n",
       "\\item 'member\\_casual'\n",
       "\\end{enumerate*}\n"
      ],
      "text/markdown": [
       "1. 'ride_id'\n",
       "2. 'rideable_type'\n",
       "3. 'started_at'\n",
       "4. 'ended_at'\n",
       "5. 'start_station_name'\n",
       "6. 'start_station_id'\n",
       "7. 'end_station_name'\n",
       "8. 'end_station_id'\n",
       "9. 'start_lat'\n",
       "10. 'start_lng'\n",
       "11. 'end_lat'\n",
       "12. 'end_lng'\n",
       "13. 'member_casual'\n",
       "\n",
       "\n"
      ],
      "text/plain": [
       " [1] \"ride_id\"            \"rideable_type\"      \"started_at\"        \n",
       " [4] \"ended_at\"           \"start_station_name\" \"start_station_id\"  \n",
       " [7] \"end_station_name\"   \"end_station_id\"     \"start_lat\"         \n",
       "[10] \"start_lng\"          \"end_lat\"            \"end_lng\"           \n",
       "[13] \"member_casual\"     "
      ]
     },
     "metadata": {},
     "output_type": "display_data"
    },
    {
     "data": {
      "text/html": [
       "<style>\n",
       ".list-inline {list-style: none; margin:0; padding: 0}\n",
       ".list-inline>li {display: inline-block}\n",
       ".list-inline>li:not(:last-child)::after {content: \"\\00b7\"; padding: 0 .5ex}\n",
       "</style>\n",
       "<ol class=list-inline><li>'ride_id'</li><li>'rideable_type'</li><li>'started_at'</li><li>'ended_at'</li><li>'start_station_name'</li><li>'start_station_id'</li><li>'end_station_name'</li><li>'end_station_id'</li><li>'start_lat'</li><li>'start_lng'</li><li>'end_lat'</li><li>'end_lng'</li><li>'member_casual'</li></ol>\n"
      ],
      "text/latex": [
       "\\begin{enumerate*}\n",
       "\\item 'ride\\_id'\n",
       "\\item 'rideable\\_type'\n",
       "\\item 'started\\_at'\n",
       "\\item 'ended\\_at'\n",
       "\\item 'start\\_station\\_name'\n",
       "\\item 'start\\_station\\_id'\n",
       "\\item 'end\\_station\\_name'\n",
       "\\item 'end\\_station\\_id'\n",
       "\\item 'start\\_lat'\n",
       "\\item 'start\\_lng'\n",
       "\\item 'end\\_lat'\n",
       "\\item 'end\\_lng'\n",
       "\\item 'member\\_casual'\n",
       "\\end{enumerate*}\n"
      ],
      "text/markdown": [
       "1. 'ride_id'\n",
       "2. 'rideable_type'\n",
       "3. 'started_at'\n",
       "4. 'ended_at'\n",
       "5. 'start_station_name'\n",
       "6. 'start_station_id'\n",
       "7. 'end_station_name'\n",
       "8. 'end_station_id'\n",
       "9. 'start_lat'\n",
       "10. 'start_lng'\n",
       "11. 'end_lat'\n",
       "12. 'end_lng'\n",
       "13. 'member_casual'\n",
       "\n",
       "\n"
      ],
      "text/plain": [
       " [1] \"ride_id\"            \"rideable_type\"      \"started_at\"        \n",
       " [4] \"ended_at\"           \"start_station_name\" \"start_station_id\"  \n",
       " [7] \"end_station_name\"   \"end_station_id\"     \"start_lat\"         \n",
       "[10] \"start_lng\"          \"end_lat\"            \"end_lng\"           \n",
       "[13] \"member_casual\"     "
      ]
     },
     "metadata": {},
     "output_type": "display_data"
    }
   ],
   "source": [
    "# the colnames() function for ensuring data consistency before combining them into a single file\n",
    "\n",
    "colnames(jan24)\n",
    "colnames(feb24)\n",
    "colnames(mar23)\n",
    "colnames(apr23)\n",
    "colnames(may23)\n",
    "colnames(jun23) \n",
    "colnames(jul23)\n",
    "colnames(aug23)\n",
    "colnames(sep23)\n",
    "colnames(oct23)\n",
    "colnames(nov23)\n",
    "colnames(dec23)\n"
   ]
  },
  {
   "cell_type": "code",
   "execution_count": 4,
   "id": "706ac736",
   "metadata": {
    "execution": {
     "iopub.execute_input": "2024-11-20T15:56:36.106688Z",
     "iopub.status.busy": "2024-11-20T15:56:36.105013Z",
     "iopub.status.idle": "2024-11-20T15:56:36.165734Z",
     "shell.execute_reply": "2024-11-20T15:56:36.163783Z"
    },
    "papermill": {
     "duration": 0.076886,
     "end_time": "2024-11-20T15:56:36.168084",
     "exception": false,
     "start_time": "2024-11-20T15:56:36.091198",
     "status": "completed"
    },
    "tags": []
   },
   "outputs": [
    {
     "data": {
      "text/html": [
       "<table class=\"dataframe\">\n",
       "<caption>A data.frame: 13 × 13</caption>\n",
       "<thead>\n",
       "\t<tr><th scope=col>column_name</th><th scope=col>mar23</th><th scope=col>apr23</th><th scope=col>may23</th><th scope=col>jun23</th><th scope=col>jul23</th><th scope=col>aug23</th><th scope=col>sep23</th><th scope=col>oct23</th><th scope=col>nov23</th><th scope=col>dec23</th><th scope=col>jan24</th><th scope=col>feb24</th></tr>\n",
       "\t<tr><th scope=col>&lt;chr&gt;</th><th scope=col>&lt;chr&gt;</th><th scope=col>&lt;chr&gt;</th><th scope=col>&lt;chr&gt;</th><th scope=col>&lt;chr&gt;</th><th scope=col>&lt;chr&gt;</th><th scope=col>&lt;chr&gt;</th><th scope=col>&lt;chr&gt;</th><th scope=col>&lt;chr&gt;</th><th scope=col>&lt;chr&gt;</th><th scope=col>&lt;chr&gt;</th><th scope=col>&lt;chr&gt;</th><th scope=col>&lt;chr&gt;</th></tr>\n",
       "</thead>\n",
       "<tbody>\n",
       "\t<tr><td>end_lat           </td><td>numeric  </td><td>numeric  </td><td>numeric  </td><td>numeric  </td><td>numeric  </td><td>numeric  </td><td>numeric  </td><td>numeric  </td><td>numeric  </td><td>numeric  </td><td>numeric  </td><td>numeric  </td></tr>\n",
       "\t<tr><td>end_lng           </td><td>numeric  </td><td>numeric  </td><td>numeric  </td><td>numeric  </td><td>numeric  </td><td>numeric  </td><td>numeric  </td><td>numeric  </td><td>numeric  </td><td>numeric  </td><td>numeric  </td><td>numeric  </td></tr>\n",
       "\t<tr><td>end_station_id    </td><td>character</td><td>character</td><td>character</td><td>character</td><td>character</td><td>character</td><td>character</td><td>character</td><td>character</td><td>character</td><td>character</td><td>character</td></tr>\n",
       "\t<tr><td>end_station_name  </td><td>character</td><td>character</td><td>character</td><td>character</td><td>character</td><td>character</td><td>character</td><td>character</td><td>character</td><td>character</td><td>character</td><td>character</td></tr>\n",
       "\t<tr><td>ended_at          </td><td>character</td><td>character</td><td>character</td><td>character</td><td>character</td><td>character</td><td>character</td><td>character</td><td>character</td><td>character</td><td>character</td><td>character</td></tr>\n",
       "\t<tr><td>member_casual     </td><td>character</td><td>character</td><td>character</td><td>character</td><td>character</td><td>character</td><td>character</td><td>character</td><td>character</td><td>character</td><td>character</td><td>character</td></tr>\n",
       "\t<tr><td>ride_id           </td><td>character</td><td>character</td><td>character</td><td>character</td><td>character</td><td>character</td><td>character</td><td>character</td><td>character</td><td>character</td><td>character</td><td>character</td></tr>\n",
       "\t<tr><td>rideable_type     </td><td>character</td><td>character</td><td>character</td><td>character</td><td>character</td><td>character</td><td>character</td><td>character</td><td>character</td><td>character</td><td>character</td><td>character</td></tr>\n",
       "\t<tr><td>start_lat         </td><td>numeric  </td><td>numeric  </td><td>numeric  </td><td>numeric  </td><td>numeric  </td><td>numeric  </td><td>numeric  </td><td>numeric  </td><td>numeric  </td><td>numeric  </td><td>numeric  </td><td>numeric  </td></tr>\n",
       "\t<tr><td>start_lng         </td><td>numeric  </td><td>numeric  </td><td>numeric  </td><td>numeric  </td><td>numeric  </td><td>numeric  </td><td>numeric  </td><td>numeric  </td><td>numeric  </td><td>numeric  </td><td>numeric  </td><td>numeric  </td></tr>\n",
       "\t<tr><td>start_station_id  </td><td>character</td><td>character</td><td>character</td><td>character</td><td>character</td><td>character</td><td>character</td><td>character</td><td>character</td><td>character</td><td>character</td><td>character</td></tr>\n",
       "\t<tr><td>start_station_name</td><td>character</td><td>character</td><td>character</td><td>character</td><td>character</td><td>character</td><td>character</td><td>character</td><td>character</td><td>character</td><td>character</td><td>character</td></tr>\n",
       "\t<tr><td>started_at        </td><td>character</td><td>character</td><td>character</td><td>character</td><td>character</td><td>character</td><td>character</td><td>character</td><td>character</td><td>character</td><td>character</td><td>character</td></tr>\n",
       "</tbody>\n",
       "</table>\n"
      ],
      "text/latex": [
       "A data.frame: 13 × 13\n",
       "\\begin{tabular}{lllllllllllll}\n",
       " column\\_name & mar23 & apr23 & may23 & jun23 & jul23 & aug23 & sep23 & oct23 & nov23 & dec23 & jan24 & feb24\\\\\n",
       " <chr> & <chr> & <chr> & <chr> & <chr> & <chr> & <chr> & <chr> & <chr> & <chr> & <chr> & <chr> & <chr>\\\\\n",
       "\\hline\n",
       "\t end\\_lat            & numeric   & numeric   & numeric   & numeric   & numeric   & numeric   & numeric   & numeric   & numeric   & numeric   & numeric   & numeric  \\\\\n",
       "\t end\\_lng            & numeric   & numeric   & numeric   & numeric   & numeric   & numeric   & numeric   & numeric   & numeric   & numeric   & numeric   & numeric  \\\\\n",
       "\t end\\_station\\_id     & character & character & character & character & character & character & character & character & character & character & character & character\\\\\n",
       "\t end\\_station\\_name   & character & character & character & character & character & character & character & character & character & character & character & character\\\\\n",
       "\t ended\\_at           & character & character & character & character & character & character & character & character & character & character & character & character\\\\\n",
       "\t member\\_casual      & character & character & character & character & character & character & character & character & character & character & character & character\\\\\n",
       "\t ride\\_id            & character & character & character & character & character & character & character & character & character & character & character & character\\\\\n",
       "\t rideable\\_type      & character & character & character & character & character & character & character & character & character & character & character & character\\\\\n",
       "\t start\\_lat          & numeric   & numeric   & numeric   & numeric   & numeric   & numeric   & numeric   & numeric   & numeric   & numeric   & numeric   & numeric  \\\\\n",
       "\t start\\_lng          & numeric   & numeric   & numeric   & numeric   & numeric   & numeric   & numeric   & numeric   & numeric   & numeric   & numeric   & numeric  \\\\\n",
       "\t start\\_station\\_id   & character & character & character & character & character & character & character & character & character & character & character & character\\\\\n",
       "\t start\\_station\\_name & character & character & character & character & character & character & character & character & character & character & character & character\\\\\n",
       "\t started\\_at         & character & character & character & character & character & character & character & character & character & character & character & character\\\\\n",
       "\\end{tabular}\n"
      ],
      "text/markdown": [
       "\n",
       "A data.frame: 13 × 13\n",
       "\n",
       "| column_name &lt;chr&gt; | mar23 &lt;chr&gt; | apr23 &lt;chr&gt; | may23 &lt;chr&gt; | jun23 &lt;chr&gt; | jul23 &lt;chr&gt; | aug23 &lt;chr&gt; | sep23 &lt;chr&gt; | oct23 &lt;chr&gt; | nov23 &lt;chr&gt; | dec23 &lt;chr&gt; | jan24 &lt;chr&gt; | feb24 &lt;chr&gt; |\n",
       "|---|---|---|---|---|---|---|---|---|---|---|---|---|\n",
       "| end_lat            | numeric   | numeric   | numeric   | numeric   | numeric   | numeric   | numeric   | numeric   | numeric   | numeric   | numeric   | numeric   |\n",
       "| end_lng            | numeric   | numeric   | numeric   | numeric   | numeric   | numeric   | numeric   | numeric   | numeric   | numeric   | numeric   | numeric   |\n",
       "| end_station_id     | character | character | character | character | character | character | character | character | character | character | character | character |\n",
       "| end_station_name   | character | character | character | character | character | character | character | character | character | character | character | character |\n",
       "| ended_at           | character | character | character | character | character | character | character | character | character | character | character | character |\n",
       "| member_casual      | character | character | character | character | character | character | character | character | character | character | character | character |\n",
       "| ride_id            | character | character | character | character | character | character | character | character | character | character | character | character |\n",
       "| rideable_type      | character | character | character | character | character | character | character | character | character | character | character | character |\n",
       "| start_lat          | numeric   | numeric   | numeric   | numeric   | numeric   | numeric   | numeric   | numeric   | numeric   | numeric   | numeric   | numeric   |\n",
       "| start_lng          | numeric   | numeric   | numeric   | numeric   | numeric   | numeric   | numeric   | numeric   | numeric   | numeric   | numeric   | numeric   |\n",
       "| start_station_id   | character | character | character | character | character | character | character | character | character | character | character | character |\n",
       "| start_station_name | character | character | character | character | character | character | character | character | character | character | character | character |\n",
       "| started_at         | character | character | character | character | character | character | character | character | character | character | character | character |\n",
       "\n"
      ],
      "text/plain": [
       "   column_name        mar23     apr23     may23     jun23     jul23    \n",
       "1  end_lat            numeric   numeric   numeric   numeric   numeric  \n",
       "2  end_lng            numeric   numeric   numeric   numeric   numeric  \n",
       "3  end_station_id     character character character character character\n",
       "4  end_station_name   character character character character character\n",
       "5  ended_at           character character character character character\n",
       "6  member_casual      character character character character character\n",
       "7  ride_id            character character character character character\n",
       "8  rideable_type      character character character character character\n",
       "9  start_lat          numeric   numeric   numeric   numeric   numeric  \n",
       "10 start_lng          numeric   numeric   numeric   numeric   numeric  \n",
       "11 start_station_id   character character character character character\n",
       "12 start_station_name character character character character character\n",
       "13 started_at         character character character character character\n",
       "   aug23     sep23     oct23     nov23     dec23     jan24     feb24    \n",
       "1  numeric   numeric   numeric   numeric   numeric   numeric   numeric  \n",
       "2  numeric   numeric   numeric   numeric   numeric   numeric   numeric  \n",
       "3  character character character character character character character\n",
       "4  character character character character character character character\n",
       "5  character character character character character character character\n",
       "6  character character character character character character character\n",
       "7  character character character character character character character\n",
       "8  character character character character character character character\n",
       "9  numeric   numeric   numeric   numeric   numeric   numeric   numeric  \n",
       "10 numeric   numeric   numeric   numeric   numeric   numeric   numeric  \n",
       "11 character character character character character character character\n",
       "12 character character character character character character character\n",
       "13 character character character character character character character"
      ]
     },
     "metadata": {},
     "output_type": "display_data"
    }
   ],
   "source": [
    "# Validating Data Types: check that each monthly data set consists of the same data type using the compare_df_cols function\n",
    "\n",
    "compare_df_cols(mar23,apr23,may23, jun23, jul23,aug23,sep23, oct23, nov23, dec23, jan24, feb24,\n",
    "return = \"match\")"
   ]
  },
  {
   "cell_type": "markdown",
   "id": "0b0e361e",
   "metadata": {
    "papermill": {
     "duration": 0.012035,
     "end_time": "2024-11-20T15:56:36.192046",
     "exception": false,
     "start_time": "2024-11-20T15:56:36.180011",
     "status": "completed"
    },
    "tags": []
   },
   "source": [
    "* I merged them into a single file to aggregate the trip data from the last 12 months for analysis."
   ]
  },
  {
   "cell_type": "code",
   "execution_count": 5,
   "id": "f094468e",
   "metadata": {
    "execution": {
     "iopub.execute_input": "2024-11-20T15:56:36.219626Z",
     "iopub.status.busy": "2024-11-20T15:56:36.217996Z",
     "iopub.status.idle": "2024-11-20T15:56:49.210320Z",
     "shell.execute_reply": "2024-11-20T15:56:49.208501Z"
    },
    "papermill": {
     "duration": 13.008981,
     "end_time": "2024-11-20T15:56:49.213038",
     "exception": false,
     "start_time": "2024-11-20T15:56:36.204057",
     "status": "completed"
    },
    "tags": []
   },
   "outputs": [],
   "source": [
    "# Combining data that has been separated by time frame\n",
    "\n",
    "tripdata <- bind_rows(jan24, feb24, mar23, apr23, may23, jun23, jul23, aug23, sep23, oct23, nov23, dec23)"
   ]
  },
  {
   "cell_type": "markdown",
   "id": "1c63dbe5",
   "metadata": {
    "papermill": {
     "duration": 0.012659,
     "end_time": "2024-11-20T15:56:49.245073",
     "exception": false,
     "start_time": "2024-11-20T15:56:49.232414",
     "status": "completed"
    },
    "tags": []
   },
   "source": [
    "* The new table which I used for my analysis contains 13 columns and 5707168 rows."
   ]
  },
  {
   "cell_type": "code",
   "execution_count": 6,
   "id": "4463f6a0",
   "metadata": {
    "execution": {
     "iopub.execute_input": "2024-11-20T15:56:49.273620Z",
     "iopub.status.busy": "2024-11-20T15:56:49.271993Z",
     "iopub.status.idle": "2024-11-20T15:56:58.012721Z",
     "shell.execute_reply": "2024-11-20T15:56:58.010978Z"
    },
    "papermill": {
     "duration": 8.757308,
     "end_time": "2024-11-20T15:56:58.015033",
     "exception": false,
     "start_time": "2024-11-20T15:56:49.257725",
     "status": "completed"
    },
    "tags": []
   },
   "outputs": [
    {
     "data": {
      "text/html": [
       "5707168"
      ],
      "text/latex": [
       "5707168"
      ],
      "text/markdown": [
       "5707168"
      ],
      "text/plain": [
       "[1] 5707168"
      ]
     },
     "metadata": {},
     "output_type": "display_data"
    },
    {
     "data": {
      "text/html": [
       "<style>\n",
       ".list-inline {list-style: none; margin:0; padding: 0}\n",
       ".list-inline>li {display: inline-block}\n",
       ".list-inline>li:not(:last-child)::after {content: \"\\00b7\"; padding: 0 .5ex}\n",
       "</style>\n",
       "<ol class=list-inline><li>5707168</li><li>13</li></ol>\n"
      ],
      "text/latex": [
       "\\begin{enumerate*}\n",
       "\\item 5707168\n",
       "\\item 13\n",
       "\\end{enumerate*}\n"
      ],
      "text/markdown": [
       "1. 5707168\n",
       "2. 13\n",
       "\n",
       "\n"
      ],
      "text/plain": [
       "[1] 5707168      13"
      ]
     },
     "metadata": {},
     "output_type": "display_data"
    },
    {
     "data": {
      "text/html": [
       "<table class=\"dataframe\">\n",
       "<caption>A data.frame: 6 × 13</caption>\n",
       "<thead>\n",
       "\t<tr><th></th><th scope=col>ride_id</th><th scope=col>rideable_type</th><th scope=col>started_at</th><th scope=col>ended_at</th><th scope=col>start_station_name</th><th scope=col>start_station_id</th><th scope=col>end_station_name</th><th scope=col>end_station_id</th><th scope=col>start_lat</th><th scope=col>start_lng</th><th scope=col>end_lat</th><th scope=col>end_lng</th><th scope=col>member_casual</th></tr>\n",
       "\t<tr><th></th><th scope=col>&lt;chr&gt;</th><th scope=col>&lt;chr&gt;</th><th scope=col>&lt;chr&gt;</th><th scope=col>&lt;chr&gt;</th><th scope=col>&lt;chr&gt;</th><th scope=col>&lt;chr&gt;</th><th scope=col>&lt;chr&gt;</th><th scope=col>&lt;chr&gt;</th><th scope=col>&lt;dbl&gt;</th><th scope=col>&lt;dbl&gt;</th><th scope=col>&lt;dbl&gt;</th><th scope=col>&lt;dbl&gt;</th><th scope=col>&lt;chr&gt;</th></tr>\n",
       "</thead>\n",
       "<tbody>\n",
       "\t<tr><th scope=row>1</th><td>C1D650626C8C899A</td><td>electric_bike</td><td>2024-01-12 15:30:27</td><td>2024-01-12 15:37:59</td><td><span style=white-space:pre-wrap>Wells St &amp; Elm St         </span></td><td>KA1504000135</td><td>Kingsbury St &amp; Kinzie St </td><td>KA1503000043</td><td>41.90327</td><td>-87.63474</td><td>41.88918</td><td>-87.63851</td><td>member</td></tr>\n",
       "\t<tr><th scope=row>2</th><td>EECD38BDB25BFCB0</td><td>electric_bike</td><td>2024-01-08 15:45:46</td><td>2024-01-08 15:52:59</td><td><span style=white-space:pre-wrap>Wells St &amp; Elm St         </span></td><td>KA1504000135</td><td>Kingsbury St &amp; Kinzie St </td><td>KA1503000043</td><td>41.90294</td><td>-87.63444</td><td>41.88918</td><td>-87.63851</td><td>member</td></tr>\n",
       "\t<tr><th scope=row>3</th><td>F4A9CE78061F17F7</td><td>electric_bike</td><td>2024-01-27 12:27:19</td><td>2024-01-27 12:35:19</td><td><span style=white-space:pre-wrap>Wells St &amp; Elm St         </span></td><td>KA1504000135</td><td>Kingsbury St &amp; Kinzie St </td><td>KA1503000043</td><td>41.90295</td><td>-87.63447</td><td>41.88918</td><td>-87.63851</td><td>member</td></tr>\n",
       "\t<tr><th scope=row>4</th><td>0A0D9E15EE50B171</td><td>classic_bike </td><td>2024-01-29 16:26:17</td><td>2024-01-29 16:56:06</td><td><span style=white-space:pre-wrap>Wells St &amp; Randolph St    </span></td><td>TA1305000030</td><td>Larrabee St &amp; Webster Ave</td><td><span style=white-space:pre-wrap>13193       </span></td><td>41.88430</td><td>-87.63396</td><td>41.92182</td><td>-87.64414</td><td>member</td></tr>\n",
       "\t<tr><th scope=row>5</th><td>33FFC9805E3EFF9A</td><td>classic_bike </td><td>2024-01-31 05:43:23</td><td>2024-01-31 06:09:35</td><td>Lincoln Ave &amp; Waveland Ave</td><td><span style=white-space:pre-wrap>13253       </span></td><td>Kingsbury St &amp; Kinzie St </td><td>KA1503000043</td><td>41.94880</td><td>-87.67528</td><td>41.88918</td><td>-87.63851</td><td>member</td></tr>\n",
       "\t<tr><th scope=row>6</th><td>C96080812CD285C5</td><td>classic_bike </td><td>2024-01-07 11:21:24</td><td>2024-01-07 11:30:03</td><td><span style=white-space:pre-wrap>Wells St &amp; Elm St         </span></td><td>KA1504000135</td><td>Kingsbury St &amp; Kinzie St </td><td>KA1503000043</td><td>41.90322</td><td>-87.63432</td><td>41.88918</td><td>-87.63851</td><td>member</td></tr>\n",
       "</tbody>\n",
       "</table>\n"
      ],
      "text/latex": [
       "A data.frame: 6 × 13\n",
       "\\begin{tabular}{r|lllllllllllll}\n",
       "  & ride\\_id & rideable\\_type & started\\_at & ended\\_at & start\\_station\\_name & start\\_station\\_id & end\\_station\\_name & end\\_station\\_id & start\\_lat & start\\_lng & end\\_lat & end\\_lng & member\\_casual\\\\\n",
       "  & <chr> & <chr> & <chr> & <chr> & <chr> & <chr> & <chr> & <chr> & <dbl> & <dbl> & <dbl> & <dbl> & <chr>\\\\\n",
       "\\hline\n",
       "\t1 & C1D650626C8C899A & electric\\_bike & 2024-01-12 15:30:27 & 2024-01-12 15:37:59 & Wells St \\& Elm St          & KA1504000135 & Kingsbury St \\& Kinzie St  & KA1503000043 & 41.90327 & -87.63474 & 41.88918 & -87.63851 & member\\\\\n",
       "\t2 & EECD38BDB25BFCB0 & electric\\_bike & 2024-01-08 15:45:46 & 2024-01-08 15:52:59 & Wells St \\& Elm St          & KA1504000135 & Kingsbury St \\& Kinzie St  & KA1503000043 & 41.90294 & -87.63444 & 41.88918 & -87.63851 & member\\\\\n",
       "\t3 & F4A9CE78061F17F7 & electric\\_bike & 2024-01-27 12:27:19 & 2024-01-27 12:35:19 & Wells St \\& Elm St          & KA1504000135 & Kingsbury St \\& Kinzie St  & KA1503000043 & 41.90295 & -87.63447 & 41.88918 & -87.63851 & member\\\\\n",
       "\t4 & 0A0D9E15EE50B171 & classic\\_bike  & 2024-01-29 16:26:17 & 2024-01-29 16:56:06 & Wells St \\& Randolph St     & TA1305000030 & Larrabee St \\& Webster Ave & 13193        & 41.88430 & -87.63396 & 41.92182 & -87.64414 & member\\\\\n",
       "\t5 & 33FFC9805E3EFF9A & classic\\_bike  & 2024-01-31 05:43:23 & 2024-01-31 06:09:35 & Lincoln Ave \\& Waveland Ave & 13253        & Kingsbury St \\& Kinzie St  & KA1503000043 & 41.94880 & -87.67528 & 41.88918 & -87.63851 & member\\\\\n",
       "\t6 & C96080812CD285C5 & classic\\_bike  & 2024-01-07 11:21:24 & 2024-01-07 11:30:03 & Wells St \\& Elm St          & KA1504000135 & Kingsbury St \\& Kinzie St  & KA1503000043 & 41.90322 & -87.63432 & 41.88918 & -87.63851 & member\\\\\n",
       "\\end{tabular}\n"
      ],
      "text/markdown": [
       "\n",
       "A data.frame: 6 × 13\n",
       "\n",
       "| <!--/--> | ride_id &lt;chr&gt; | rideable_type &lt;chr&gt; | started_at &lt;chr&gt; | ended_at &lt;chr&gt; | start_station_name &lt;chr&gt; | start_station_id &lt;chr&gt; | end_station_name &lt;chr&gt; | end_station_id &lt;chr&gt; | start_lat &lt;dbl&gt; | start_lng &lt;dbl&gt; | end_lat &lt;dbl&gt; | end_lng &lt;dbl&gt; | member_casual &lt;chr&gt; |\n",
       "|---|---|---|---|---|---|---|---|---|---|---|---|---|---|\n",
       "| 1 | C1D650626C8C899A | electric_bike | 2024-01-12 15:30:27 | 2024-01-12 15:37:59 | Wells St &amp; Elm St          | KA1504000135 | Kingsbury St &amp; Kinzie St  | KA1503000043 | 41.90327 | -87.63474 | 41.88918 | -87.63851 | member |\n",
       "| 2 | EECD38BDB25BFCB0 | electric_bike | 2024-01-08 15:45:46 | 2024-01-08 15:52:59 | Wells St &amp; Elm St          | KA1504000135 | Kingsbury St &amp; Kinzie St  | KA1503000043 | 41.90294 | -87.63444 | 41.88918 | -87.63851 | member |\n",
       "| 3 | F4A9CE78061F17F7 | electric_bike | 2024-01-27 12:27:19 | 2024-01-27 12:35:19 | Wells St &amp; Elm St          | KA1504000135 | Kingsbury St &amp; Kinzie St  | KA1503000043 | 41.90295 | -87.63447 | 41.88918 | -87.63851 | member |\n",
       "| 4 | 0A0D9E15EE50B171 | classic_bike  | 2024-01-29 16:26:17 | 2024-01-29 16:56:06 | Wells St &amp; Randolph St     | TA1305000030 | Larrabee St &amp; Webster Ave | 13193        | 41.88430 | -87.63396 | 41.92182 | -87.64414 | member |\n",
       "| 5 | 33FFC9805E3EFF9A | classic_bike  | 2024-01-31 05:43:23 | 2024-01-31 06:09:35 | Lincoln Ave &amp; Waveland Ave | 13253        | Kingsbury St &amp; Kinzie St  | KA1503000043 | 41.94880 | -87.67528 | 41.88918 | -87.63851 | member |\n",
       "| 6 | C96080812CD285C5 | classic_bike  | 2024-01-07 11:21:24 | 2024-01-07 11:30:03 | Wells St &amp; Elm St          | KA1504000135 | Kingsbury St &amp; Kinzie St  | KA1503000043 | 41.90322 | -87.63432 | 41.88918 | -87.63851 | member |\n",
       "\n"
      ],
      "text/plain": [
       "  ride_id          rideable_type started_at          ended_at           \n",
       "1 C1D650626C8C899A electric_bike 2024-01-12 15:30:27 2024-01-12 15:37:59\n",
       "2 EECD38BDB25BFCB0 electric_bike 2024-01-08 15:45:46 2024-01-08 15:52:59\n",
       "3 F4A9CE78061F17F7 electric_bike 2024-01-27 12:27:19 2024-01-27 12:35:19\n",
       "4 0A0D9E15EE50B171 classic_bike  2024-01-29 16:26:17 2024-01-29 16:56:06\n",
       "5 33FFC9805E3EFF9A classic_bike  2024-01-31 05:43:23 2024-01-31 06:09:35\n",
       "6 C96080812CD285C5 classic_bike  2024-01-07 11:21:24 2024-01-07 11:30:03\n",
       "  start_station_name         start_station_id end_station_name         \n",
       "1 Wells St & Elm St          KA1504000135     Kingsbury St & Kinzie St \n",
       "2 Wells St & Elm St          KA1504000135     Kingsbury St & Kinzie St \n",
       "3 Wells St & Elm St          KA1504000135     Kingsbury St & Kinzie St \n",
       "4 Wells St & Randolph St     TA1305000030     Larrabee St & Webster Ave\n",
       "5 Lincoln Ave & Waveland Ave 13253            Kingsbury St & Kinzie St \n",
       "6 Wells St & Elm St          KA1504000135     Kingsbury St & Kinzie St \n",
       "  end_station_id start_lat start_lng end_lat  end_lng   member_casual\n",
       "1 KA1503000043   41.90327  -87.63474 41.88918 -87.63851 member       \n",
       "2 KA1503000043   41.90294  -87.63444 41.88918 -87.63851 member       \n",
       "3 KA1503000043   41.90295  -87.63447 41.88918 -87.63851 member       \n",
       "4 13193          41.88430  -87.63396 41.92182 -87.64414 member       \n",
       "5 KA1503000043   41.94880  -87.67528 41.88918 -87.63851 member       \n",
       "6 KA1503000043   41.90322  -87.63432 41.88918 -87.63851 member       "
      ]
     },
     "metadata": {},
     "output_type": "display_data"
    },
    {
     "name": "stdout",
     "output_type": "stream",
     "text": [
      "'data.frame':\t5707168 obs. of  13 variables:\n",
      " $ ride_id           : chr  \"C1D650626C8C899A\" \"EECD38BDB25BFCB0\" \"F4A9CE78061F17F7\" \"0A0D9E15EE50B171\" ...\n",
      " $ rideable_type     : chr  \"electric_bike\" \"electric_bike\" \"electric_bike\" \"classic_bike\" ...\n",
      " $ started_at        : chr  \"2024-01-12 15:30:27\" \"2024-01-08 15:45:46\" \"2024-01-27 12:27:19\" \"2024-01-29 16:26:17\" ...\n",
      " $ ended_at          : chr  \"2024-01-12 15:37:59\" \"2024-01-08 15:52:59\" \"2024-01-27 12:35:19\" \"2024-01-29 16:56:06\" ...\n",
      " $ start_station_name: chr  \"Wells St & Elm St\" \"Wells St & Elm St\" \"Wells St & Elm St\" \"Wells St & Randolph St\" ...\n",
      " $ start_station_id  : chr  \"KA1504000135\" \"KA1504000135\" \"KA1504000135\" \"TA1305000030\" ...\n",
      " $ end_station_name  : chr  \"Kingsbury St & Kinzie St\" \"Kingsbury St & Kinzie St\" \"Kingsbury St & Kinzie St\" \"Larrabee St & Webster Ave\" ...\n",
      " $ end_station_id    : chr  \"KA1503000043\" \"KA1503000043\" \"KA1503000043\" \"13193\" ...\n",
      " $ start_lat         : num  41.9 41.9 41.9 41.9 41.9 ...\n",
      " $ start_lng         : num  -87.6 -87.6 -87.6 -87.6 -87.7 ...\n",
      " $ end_lat           : num  41.9 41.9 41.9 41.9 41.9 ...\n",
      " $ end_lng           : num  -87.6 -87.6 -87.6 -87.6 -87.6 ...\n",
      " $ member_casual     : chr  \"member\" \"member\" \"member\" \"member\" ...\n"
     ]
    },
    {
     "data": {
      "text/plain": [
       "   ride_id          rideable_type       started_at          ended_at        \n",
       " Length:5707168     Length:5707168     Length:5707168     Length:5707168    \n",
       " Class :character   Class :character   Class :character   Class :character  \n",
       " Mode  :character   Mode  :character   Mode  :character   Mode  :character  \n",
       "                                                                            \n",
       "                                                                            \n",
       "                                                                            \n",
       "                                                                            \n",
       " start_station_name start_station_id   end_station_name   end_station_id    \n",
       " Length:5707168     Length:5707168     Length:5707168     Length:5707168    \n",
       " Class :character   Class :character   Class :character   Class :character  \n",
       " Mode  :character   Mode  :character   Mode  :character   Mode  :character  \n",
       "                                                                            \n",
       "                                                                            \n",
       "                                                                            \n",
       "                                                                            \n",
       "   start_lat       start_lng         end_lat         end_lng      \n",
       " Min.   :41.63   Min.   :-87.94   Min.   : 0.00   Min.   :-88.16  \n",
       " 1st Qu.:41.88   1st Qu.:-87.66   1st Qu.:41.88   1st Qu.:-87.66  \n",
       " Median :41.90   Median :-87.64   Median :41.90   Median :-87.64  \n",
       " Mean   :41.90   Mean   :-87.65   Mean   :41.90   Mean   :-87.65  \n",
       " 3rd Qu.:41.93   3rd Qu.:-87.63   3rd Qu.:41.93   3rd Qu.:-87.63  \n",
       " Max.   :42.07   Max.   :-87.46   Max.   :42.18   Max.   :  0.00  \n",
       "                                  NA's   :7353    NA's   :7353    \n",
       " member_casual     \n",
       " Length:5707168    \n",
       " Class :character  \n",
       " Mode  :character  \n",
       "                   \n",
       "                   \n",
       "                   \n",
       "                   "
      ]
     },
     "metadata": {},
     "output_type": "display_data"
    }
   ],
   "source": [
    "# Inspect merged data frame that has been created\n",
    "\n",
    "nrow(tripdata)  #How many rows are in the data frame?\n",
    "dim(tripdata)  #Dimensions of the data frame?\n",
    "head(tripdata)  #See the first 6 rows of the data frame. \n",
    "str(tripdata)  #See list of columns and data types\n",
    "summary(tripdata)  #Statistical summary of data. "
   ]
  },
  {
   "cell_type": "markdown",
   "id": "84d22bfe",
   "metadata": {
    "papermill": {
     "duration": 0.012526,
     "end_time": "2024-11-20T15:56:58.040945",
     "exception": false,
     "start_time": "2024-11-20T15:56:58.028419",
     "status": "completed"
    },
    "tags": []
   },
   "source": [
    "* I use the duplicated() function to identify any duplicate values in the \"ride_id\" column, as each ride ID is expected to be unique."
   ]
  },
  {
   "cell_type": "code",
   "execution_count": 7,
   "id": "24367670",
   "metadata": {
    "execution": {
     "iopub.execute_input": "2024-11-20T15:56:58.070043Z",
     "iopub.status.busy": "2024-11-20T15:56:58.068464Z",
     "iopub.status.idle": "2024-11-20T15:56:58.739606Z",
     "shell.execute_reply": "2024-11-20T15:56:58.737865Z"
    },
    "papermill": {
     "duration": 0.688104,
     "end_time": "2024-11-20T15:56:58.741957",
     "exception": false,
     "start_time": "2024-11-20T15:56:58.053853",
     "status": "completed"
    },
    "tags": []
   },
   "outputs": [
    {
     "data": {
      "text/html": [
       "<span style=white-space:pre-wrap>'Number of duplicates in the ride_id column :  0'</span>"
      ],
      "text/latex": [
       "'Number of duplicates in the ride\\_id column :  0'"
      ],
      "text/markdown": [
       "<span style=white-space:pre-wrap>'Number of duplicates in the ride_id column :  0'</span>"
      ],
      "text/plain": [
       "[1] \"Number of duplicates in the ride_id column :  0\""
      ]
     },
     "metadata": {},
     "output_type": "display_data"
    }
   ],
   "source": [
    "# Check for duplicate values in the \"ride_id\" column \n",
    "\n",
    "paste('Number of duplicates in the ride_id column : ', sum(duplicated(tripdata$ride_id)))"
   ]
  },
  {
   "cell_type": "markdown",
   "id": "768dea39",
   "metadata": {
    "papermill": {
     "duration": 0.013004,
     "end_time": "2024-11-20T15:56:58.767722",
     "exception": false,
     "start_time": "2024-11-20T15:56:58.754718",
     "status": "completed"
    },
    "tags": []
   },
   "source": [
    "* I extract and organize date-related data from the started_at column into separate columns, including date, month, day, year, and day_of_week.\n"
   ]
  },
  {
   "cell_type": "code",
   "execution_count": 8,
   "id": "bf919d3a",
   "metadata": {
    "execution": {
     "iopub.execute_input": "2024-11-20T15:56:58.797048Z",
     "iopub.status.busy": "2024-11-20T15:56:58.795511Z",
     "iopub.status.idle": "2024-11-20T15:57:20.739240Z",
     "shell.execute_reply": "2024-11-20T15:57:20.737341Z"
    },
    "papermill": {
     "duration": 21.962628,
     "end_time": "2024-11-20T15:57:20.743073",
     "exception": false,
     "start_time": "2024-11-20T15:56:58.780445",
     "status": "completed"
    },
    "tags": []
   },
   "outputs": [],
   "source": [
    "# Add columns that list the date, month, day, and year of each ride\n",
    "\n",
    "tripdata$date <- as.Date(tripdata$started_at) #The default format is yyyy-mm-dd\n",
    "tripdata$month <- format(as.Date(tripdata$date), \"%b\") \n",
    "tripdata$day <- format(as.Date(tripdata$date), \"%d\")\n",
    "tripdata$year <- format(as.Date(tripdata$date), \"%Y\")\n",
    "tripdata$day_of_week <- format(as.Date(tripdata$date), \"%A\")"
   ]
  },
  {
   "cell_type": "markdown",
   "id": "7065fb9a",
   "metadata": {
    "papermill": {
     "duration": 0.01409,
     "end_time": "2024-11-20T15:57:20.771513",
     "exception": false,
     "start_time": "2024-11-20T15:57:20.757423",
     "status": "completed"
    },
    "tags": []
   },
   "source": [
    "* To calculate the duration of each trip, I create a new column called 'ride_length,' calculated by subtracting 'started_at' from 'ended_at. Then I convert the \"ride_length\" value from factor to numeric so I can perform calculations on the data.\n"
   ]
  },
  {
   "cell_type": "code",
   "execution_count": 9,
   "id": "a967650d",
   "metadata": {
    "execution": {
     "iopub.execute_input": "2024-11-20T15:57:20.801977Z",
     "iopub.status.busy": "2024-11-20T15:57:20.800352Z",
     "iopub.status.idle": "2024-11-20T15:57:58.669126Z",
     "shell.execute_reply": "2024-11-20T15:57:58.667326Z"
    },
    "papermill": {
     "duration": 37.886835,
     "end_time": "2024-11-20T15:57:58.671693",
     "exception": false,
     "start_time": "2024-11-20T15:57:20.784858",
     "status": "completed"
    },
    "tags": []
   },
   "outputs": [],
   "source": [
    "# Add a \"ride_length\" calculation to tripdata (in minutes) and convert \"ride_length\" to numeric\n",
    "\n",
    "tripdata$ride_length <- round(as.numeric(difftime(tripdata$ended_at, tripdata$started_at, units = \"mins\")), 2)"
   ]
  },
  {
   "cell_type": "markdown",
   "id": "f9c9c934",
   "metadata": {
    "papermill": {
     "duration": 0.013356,
     "end_time": "2024-11-20T15:57:58.698479",
     "exception": false,
     "start_time": "2024-11-20T15:57:58.685123",
     "status": "completed"
    },
    "tags": []
   },
   "source": [
    "* Taking the time to review the structure of the columns to identify missing values, outliers, or any other issues before proceeding with the analysis is a best practice that can lead to more accurate and reliable results. \n"
   ]
  },
  {
   "cell_type": "code",
   "execution_count": 10,
   "id": "0d20df5a",
   "metadata": {
    "execution": {
     "iopub.execute_input": "2024-11-20T15:57:58.764104Z",
     "iopub.status.busy": "2024-11-20T15:57:58.762544Z",
     "iopub.status.idle": "2024-11-20T15:57:58.810020Z",
     "shell.execute_reply": "2024-11-20T15:57:58.807804Z"
    },
    "papermill": {
     "duration": 0.064727,
     "end_time": "2024-11-20T15:57:58.812381",
     "exception": false,
     "start_time": "2024-11-20T15:57:58.747654",
     "status": "completed"
    },
    "tags": []
   },
   "outputs": [
    {
     "name": "stdout",
     "output_type": "stream",
     "text": [
      "'data.frame':\t5707168 obs. of  19 variables:\n",
      " $ ride_id           : chr  \"C1D650626C8C899A\" \"EECD38BDB25BFCB0\" \"F4A9CE78061F17F7\" \"0A0D9E15EE50B171\" ...\n",
      " $ rideable_type     : chr  \"electric_bike\" \"electric_bike\" \"electric_bike\" \"classic_bike\" ...\n",
      " $ started_at        : chr  \"2024-01-12 15:30:27\" \"2024-01-08 15:45:46\" \"2024-01-27 12:27:19\" \"2024-01-29 16:26:17\" ...\n",
      " $ ended_at          : chr  \"2024-01-12 15:37:59\" \"2024-01-08 15:52:59\" \"2024-01-27 12:35:19\" \"2024-01-29 16:56:06\" ...\n",
      " $ start_station_name: chr  \"Wells St & Elm St\" \"Wells St & Elm St\" \"Wells St & Elm St\" \"Wells St & Randolph St\" ...\n",
      " $ start_station_id  : chr  \"KA1504000135\" \"KA1504000135\" \"KA1504000135\" \"TA1305000030\" ...\n",
      " $ end_station_name  : chr  \"Kingsbury St & Kinzie St\" \"Kingsbury St & Kinzie St\" \"Kingsbury St & Kinzie St\" \"Larrabee St & Webster Ave\" ...\n",
      " $ end_station_id    : chr  \"KA1503000043\" \"KA1503000043\" \"KA1503000043\" \"13193\" ...\n",
      " $ start_lat         : num  41.9 41.9 41.9 41.9 41.9 ...\n",
      " $ start_lng         : num  -87.6 -87.6 -87.6 -87.6 -87.7 ...\n",
      " $ end_lat           : num  41.9 41.9 41.9 41.9 41.9 ...\n",
      " $ end_lng           : num  -87.6 -87.6 -87.6 -87.6 -87.6 ...\n",
      " $ member_casual     : chr  \"member\" \"member\" \"member\" \"member\" ...\n",
      " $ date              : Date, format: \"2024-01-12\" \"2024-01-08\" ...\n",
      " $ month             : chr  \"Jan\" \"Jan\" \"Jan\" \"Jan\" ...\n",
      " $ day               : chr  \"12\" \"08\" \"27\" \"29\" ...\n",
      " $ year              : chr  \"2024\" \"2024\" \"2024\" \"2024\" ...\n",
      " $ day_of_week       : chr  \"Friday\" \"Monday\" \"Saturday\" \"Monday\" ...\n",
      " $ ride_length       : num  7.53 7.22 8 29.82 26.2 ...\n"
     ]
    }
   ],
   "source": [
    "# Gaining insights into the structure of tripdata\n",
    "\n",
    "str(tripdata)"
   ]
  },
  {
   "cell_type": "markdown",
   "id": "9d85e48b",
   "metadata": {
    "papermill": {
     "duration": 0.012841,
     "end_time": "2024-11-20T15:57:58.838221",
     "exception": false,
     "start_time": "2024-11-20T15:57:58.825380",
     "status": "completed"
    },
    "tags": []
   },
   "source": [
    "* The data frame includes a few hundred entries when bikes were taken out of docks and checked for quality by Divvy or ride_length was recorded as negative. As a result of removing this data, I have created a new version of the dataframe ,referred to as v2."
   ]
  },
  {
   "cell_type": "code",
   "execution_count": 11,
   "id": "4d2b5559",
   "metadata": {
    "execution": {
     "iopub.execute_input": "2024-11-20T15:57:58.868750Z",
     "iopub.status.busy": "2024-11-20T15:57:58.867152Z",
     "iopub.status.idle": "2024-11-20T15:58:08.883657Z",
     "shell.execute_reply": "2024-11-20T15:58:08.881841Z"
    },
    "papermill": {
     "duration": 10.035181,
     "end_time": "2024-11-20T15:58:08.886336",
     "exception": false,
     "start_time": "2024-11-20T15:57:58.851155",
     "status": "completed"
    },
    "tags": []
   },
   "outputs": [],
   "source": [
    "# The dataframe includes a few hundred entries when bikes were taken out of docks and checked for quality by Divvy or ride_length was negative or zero\n",
    "\n",
    "tripdata_v2 <- tripdata[!(tripdata$start_station_name == \"HQ QR\" | tripdata$ride_length <= 0),]"
   ]
  },
  {
   "cell_type": "markdown",
   "id": "84290d7e",
   "metadata": {
    "papermill": {
     "duration": 0.013658,
     "end_time": "2024-11-20T15:58:08.913102",
     "exception": false,
     "start_time": "2024-11-20T15:58:08.899444",
     "status": "completed"
    },
    "tags": []
   },
   "source": [
    "<a id=\"Analyze-Phase\"></a>\n",
    "## 4. Analyze Phase\n",
    "\n",
    "* The summary() function was employed to derive various statistical measures, including the minimum, maximum, average, and median values of ride_length. By running this function, I was able to quickly gather important insights into the distribution and central tendencies of the data.\n"
   ]
  },
  {
   "cell_type": "code",
   "execution_count": 12,
   "id": "53aa662d",
   "metadata": {
    "execution": {
     "iopub.execute_input": "2024-11-20T15:58:08.943100Z",
     "iopub.status.busy": "2024-11-20T15:58:08.941593Z",
     "iopub.status.idle": "2024-11-20T15:58:09.294928Z",
     "shell.execute_reply": "2024-11-20T15:58:09.293162Z"
    },
    "papermill": {
     "duration": 0.371078,
     "end_time": "2024-11-20T15:58:09.297388",
     "exception": false,
     "start_time": "2024-11-20T15:58:08.926310",
     "status": "completed"
    },
    "tags": []
   },
   "outputs": [
    {
     "data": {
      "text/plain": [
       "    Min.  1st Qu.   Median     Mean  3rd Qu.     Max. \n",
       "    0.02     5.47     9.58    18.33    16.98 98489.07 "
      ]
     },
     "metadata": {},
     "output_type": "display_data"
    }
   ],
   "source": [
    "# Descriptive analysis on ride_length (all figures in minutes)\n",
    "\n",
    "summary(tripdata_v2$ride_length)"
   ]
  },
  {
   "cell_type": "markdown",
   "id": "17208147",
   "metadata": {
    "papermill": {
     "duration": 0.013174,
     "end_time": "2024-11-20T15:58:09.323862",
     "exception": false,
     "start_time": "2024-11-20T15:58:09.310688",
     "status": "completed"
    },
    "tags": []
   },
   "source": [
    "* To compare members and casual users, I generated summary statistics for each user type."
   ]
  },
  {
   "cell_type": "code",
   "execution_count": 13,
   "id": "93904dc6",
   "metadata": {
    "execution": {
     "iopub.execute_input": "2024-11-20T15:58:09.353643Z",
     "iopub.status.busy": "2024-11-20T15:58:09.352178Z",
     "iopub.status.idle": "2024-11-20T15:58:09.722424Z",
     "shell.execute_reply": "2024-11-20T15:58:09.720699Z"
    },
    "papermill": {
     "duration": 0.387813,
     "end_time": "2024-11-20T15:58:09.724806",
     "exception": false,
     "start_time": "2024-11-20T15:58:09.336993",
     "status": "completed"
    },
    "tags": []
   },
   "outputs": [
    {
     "data": {
      "text/html": [
       "<table class=\"dataframe\">\n",
       "<caption>A tibble: 2 × 5</caption>\n",
       "<thead>\n",
       "\t<tr><th scope=col>member_casual</th><th scope=col>mean_ride_length</th><th scope=col>median_ride_length</th><th scope=col>max_ride_length</th><th scope=col>min_ride_length</th></tr>\n",
       "\t<tr><th scope=col>&lt;chr&gt;</th><th scope=col>&lt;dbl&gt;</th><th scope=col>&lt;dbl&gt;</th><th scope=col>&lt;dbl&gt;</th><th scope=col>&lt;dbl&gt;</th></tr>\n",
       "</thead>\n",
       "<tbody>\n",
       "\t<tr><td>casual</td><td>28.31124</td><td>11.92</td><td>98489.07</td><td>0.02</td></tr>\n",
       "\t<tr><td>member</td><td>12.75035</td><td> 8.57</td><td> 1559.67</td><td>0.02</td></tr>\n",
       "</tbody>\n",
       "</table>\n"
      ],
      "text/latex": [
       "A tibble: 2 × 5\n",
       "\\begin{tabular}{lllll}\n",
       " member\\_casual & mean\\_ride\\_length & median\\_ride\\_length & max\\_ride\\_length & min\\_ride\\_length\\\\\n",
       " <chr> & <dbl> & <dbl> & <dbl> & <dbl>\\\\\n",
       "\\hline\n",
       "\t casual & 28.31124 & 11.92 & 98489.07 & 0.02\\\\\n",
       "\t member & 12.75035 &  8.57 &  1559.67 & 0.02\\\\\n",
       "\\end{tabular}\n"
      ],
      "text/markdown": [
       "\n",
       "A tibble: 2 × 5\n",
       "\n",
       "| member_casual &lt;chr&gt; | mean_ride_length &lt;dbl&gt; | median_ride_length &lt;dbl&gt; | max_ride_length &lt;dbl&gt; | min_ride_length &lt;dbl&gt; |\n",
       "|---|---|---|---|---|\n",
       "| casual | 28.31124 | 11.92 | 98489.07 | 0.02 |\n",
       "| member | 12.75035 |  8.57 |  1559.67 | 0.02 |\n",
       "\n"
      ],
      "text/plain": [
       "  member_casual mean_ride_length median_ride_length max_ride_length\n",
       "1 casual        28.31124         11.92              98489.07       \n",
       "2 member        12.75035          8.57               1559.67       \n",
       "  min_ride_length\n",
       "1 0.02           \n",
       "2 0.02           "
      ]
     },
     "metadata": {},
     "output_type": "display_data"
    }
   ],
   "source": [
    "# Calculate mean, median, max, and min ride lengths for each user type\n",
    "\n",
    "tripdata_v2 %>%\n",
    "  group_by(member_casual) %>%\n",
    "  summarize(\n",
    "    mean_ride_length = mean(ride_length),\n",
    "    median_ride_length = median(ride_length),\n",
    "    max_ride_length = max(ride_length),\n",
    "    min_ride_length = min(ride_length)\n",
    "  )\n"
   ]
  },
  {
   "cell_type": "markdown",
   "id": "645ecb6e",
   "metadata": {
    "papermill": {
     "duration": 0.013643,
     "end_time": "2024-11-20T15:58:09.751747",
     "exception": false,
     "start_time": "2024-11-20T15:58:09.738104",
     "status": "completed"
    },
    "tags": []
   },
   "source": [
    "After reviewing the results, I observed several anomalies. Specifically:\n",
    "\n",
    "Casual riders have a mean ride length of approximately 28.3 minutes, whereas for members, it is approximately 12.8 minutes. The median ride length for casual riders is about 11.9 minutes, compared to approximately 8.57 minutes for members. It's worth mentioning that there is a notable difference between the mean and median ride lengths for both casual riders and members, indicating that there are some exceptionally long rides that affect the overall distribution.\n",
    "\n",
    "One notable outlier is the maximum ride length for casual riders, which is exceptionally high at 98,489 minutes (about 68 days). Such a longer duration seems unlikely and may indicate data entry errors or outliers that require further investigation. In addition, both casual riders and members have a minimum ride length of 0.02 minutes, which requires filtering or correction in the analysis.\n"
   ]
  },
  {
   "cell_type": "code",
   "execution_count": 14,
   "id": "4663a242",
   "metadata": {
    "execution": {
     "iopub.execute_input": "2024-11-20T15:58:09.781781Z",
     "iopub.status.busy": "2024-11-20T15:58:09.780292Z",
     "iopub.status.idle": "2024-11-20T15:58:15.333252Z",
     "shell.execute_reply": "2024-11-20T15:58:15.331446Z"
    },
    "papermill": {
     "duration": 5.570748,
     "end_time": "2024-11-20T15:58:15.335821",
     "exception": false,
     "start_time": "2024-11-20T15:58:09.765073",
     "status": "completed"
    },
    "tags": []
   },
   "outputs": [],
   "source": [
    "# Filter out excessively long ride lengths (longer than a day) and rides less than 2 minutes\n",
    "\n",
    "tripdata_v2 <- tripdata_v2[!(tripdata_v2$ride_length >= 1440 | tripdata_v2$ride_length < 2), ]"
   ]
  },
  {
   "cell_type": "markdown",
   "id": "3d650f05",
   "metadata": {
    "papermill": {
     "duration": 0.013355,
     "end_time": "2024-11-20T15:58:15.362525",
     "exception": false,
     "start_time": "2024-11-20T15:58:15.349170",
     "status": "completed"
    },
    "tags": []
   },
   "source": [
    "* I examine the rideable_type and member_casual columns to ensure their consistency, checking for any  potential issues. "
   ]
  },
  {
   "cell_type": "code",
   "execution_count": 15,
   "id": "0a0f2954",
   "metadata": {
    "execution": {
     "iopub.execute_input": "2024-11-20T15:58:15.393016Z",
     "iopub.status.busy": "2024-11-20T15:58:15.391386Z",
     "iopub.status.idle": "2024-11-20T15:58:15.697795Z",
     "shell.execute_reply": "2024-11-20T15:58:15.696009Z"
    },
    "papermill": {
     "duration": 0.324246,
     "end_time": "2024-11-20T15:58:15.700143",
     "exception": false,
     "start_time": "2024-11-20T15:58:15.375897",
     "status": "completed"
    },
    "tags": []
   },
   "outputs": [
    {
     "data": {
      "text/html": [
       "<style>\n",
       ".list-inline {list-style: none; margin:0; padding: 0}\n",
       ".list-inline>li {display: inline-block}\n",
       ".list-inline>li:not(:last-child)::after {content: \"\\00b7\"; padding: 0 .5ex}\n",
       "</style>\n",
       "<ol class=list-inline><li>'member'</li><li>'casual'</li></ol>\n"
      ],
      "text/latex": [
       "\\begin{enumerate*}\n",
       "\\item 'member'\n",
       "\\item 'casual'\n",
       "\\end{enumerate*}\n"
      ],
      "text/markdown": [
       "1. 'member'\n",
       "2. 'casual'\n",
       "\n",
       "\n"
      ],
      "text/plain": [
       "[1] \"member\" \"casual\""
      ]
     },
     "metadata": {},
     "output_type": "display_data"
    },
    {
     "data": {
      "text/html": [
       "<style>\n",
       ".list-inline {list-style: none; margin:0; padding: 0}\n",
       ".list-inline>li {display: inline-block}\n",
       ".list-inline>li:not(:last-child)::after {content: \"\\00b7\"; padding: 0 .5ex}\n",
       "</style>\n",
       "<ol class=list-inline><li>'electric_bike'</li><li>'classic_bike'</li><li>'docked_bike'</li></ol>\n"
      ],
      "text/latex": [
       "\\begin{enumerate*}\n",
       "\\item 'electric\\_bike'\n",
       "\\item 'classic\\_bike'\n",
       "\\item 'docked\\_bike'\n",
       "\\end{enumerate*}\n"
      ],
      "text/markdown": [
       "1. 'electric_bike'\n",
       "2. 'classic_bike'\n",
       "3. 'docked_bike'\n",
       "\n",
       "\n"
      ],
      "text/plain": [
       "[1] \"electric_bike\" \"classic_bike\"  \"docked_bike\"  "
      ]
     },
     "metadata": {},
     "output_type": "display_data"
    }
   ],
   "source": [
    "# Check member_casual and rideable_type column to if there are any discrepancies\n",
    "\n",
    "unique(tripdata_v2$member_casual)\n",
    "\n",
    "unique(tripdata_v2$rideable_type)"
   ]
  },
  {
   "cell_type": "markdown",
   "id": "86756fc9",
   "metadata": {
    "papermill": {
     "duration": 0.01418,
     "end_time": "2024-11-20T15:58:15.727868",
     "exception": false,
     "start_time": "2024-11-20T15:58:15.713688",
     "status": "completed"
    },
    "tags": []
   },
   "source": [
    "* By calculating the percentage of members and casual riders who have used Cyclistic bike-sharing service and presenting it visually, I provide a comprehensive overview of the user demographics. This analysis helps us understand the popularity of the service among different user types.\n"
   ]
  },
  {
   "cell_type": "code",
   "execution_count": 16,
   "id": "eb91c1a0",
   "metadata": {
    "execution": {
     "iopub.execute_input": "2024-11-20T15:58:15.758570Z",
     "iopub.status.busy": "2024-11-20T15:58:15.757009Z",
     "iopub.status.idle": "2024-11-20T15:58:21.041817Z",
     "shell.execute_reply": "2024-11-20T15:58:21.039937Z"
    },
    "papermill": {
     "duration": 5.302869,
     "end_time": "2024-11-20T15:58:21.044266",
     "exception": false,
     "start_time": "2024-11-20T15:58:15.741397",
     "status": "completed"
    },
    "tags": []
   },
   "outputs": [
    {
     "name": "stdout",
     "output_type": "stream",
     "text": [
      "\u001b[90m# A tibble: 2 × 2\u001b[39m\n",
      "  member_casual percentage_of_totalrides\n",
      "  \u001b[3m\u001b[90m<chr>\u001b[39m\u001b[23m                            \u001b[3m\u001b[90m<dbl>\u001b[39m\u001b[23m\n",
      "\u001b[90m1\u001b[39m casual                            36.0\n",
      "\u001b[90m2\u001b[39m member                            64.0\n"
     ]
    }
   ],
   "source": [
    "# Percentage Distribution of User Type\n",
    "\n",
    "user_data <- tripdata_v2 %>%\n",
    "  group_by(member_casual) %>%\n",
    "  summarize(number_of_rides= n()) %>%\n",
    "  mutate(overall_total = sum(number_of_rides)) %>%\n",
    "  group_by(member_casual) %>%\n",
    "  summarize(percentage_of_totalrides = round(number_of_rides / overall_total * 100, 2))\n",
    "\n",
    "print(user_data)\n",
    "\n"
   ]
  },
  {
   "cell_type": "code",
   "execution_count": 17,
   "id": "0cafdd8e",
   "metadata": {
    "execution": {
     "iopub.execute_input": "2024-11-20T15:58:21.075691Z",
     "iopub.status.busy": "2024-11-20T15:58:21.074130Z",
     "iopub.status.idle": "2024-11-20T15:58:21.718845Z",
     "shell.execute_reply": "2024-11-20T15:58:21.716962Z"
    },
    "papermill": {
     "duration": 0.663489,
     "end_time": "2024-11-20T15:58:21.721201",
     "exception": false,
     "start_time": "2024-11-20T15:58:21.057712",
     "status": "completed"
    },
    "tags": []
   },
   "outputs": [
    {
     "data": {
      "image/png": "[encoded data removed]"
     },
     "metadata": {
      "image/png": {
       "height": 420,
       "width": 420
      }
     },
     "output_type": "display_data"
    }
   ],
   "source": [
    "ggplot(user_data, aes(x = \"\", y = percentage_of_totalrides, fill = member_casual)) +\n",
    "  geom_bar(stat = \"identity\", width = 1) +\n",
    "  coord_polar(\"y\", start = 0) + \n",
    "  labs(title = \"Percentage Distribution of User Type\", caption = \"Data: Motivate International\") +  \n",
    "  theme_void() +  \n",
    "  theme(legend.position = \"right\") + \n",
    "  scale_fill_manual(values = c(\"member\" = \"#9D84B7\", \"casual\" = \"#8EC6C5\")) +\n",
    "  geom_text(aes(label = paste0(percentage_of_totalrides, \"%\")),\n",
    "            position = position_stack(vjust = 0.5))"
   ]
  },
  {
   "cell_type": "markdown",
   "id": "c09bb065",
   "metadata": {
    "papermill": {
     "duration": 0.014629,
     "end_time": "2024-11-20T15:58:21.750425",
     "exception": false,
     "start_time": "2024-11-20T15:58:21.735796",
     "status": "completed"
    },
    "tags": []
   },
   "source": [
    "**Result:** The data shows that when it comes to using the Cyclistic bike-sharing service, members take the lead with a larger share (63.98%) of the total rides, leaving casual riders with a smaller percentage (36.02%). This information suggests that Cyclistic bike-sharing service is preferred by members over casual riders. Furthermore, my objective was to identify the bike type that is favored by various users and present the outcomes visually.\n"
   ]
  },
  {
   "cell_type": "code",
   "execution_count": 18,
   "id": "7b770b9e",
   "metadata": {
    "execution": {
     "iopub.execute_input": "2024-11-20T15:58:21.783499Z",
     "iopub.status.busy": "2024-11-20T15:58:21.781864Z",
     "iopub.status.idle": "2024-11-20T15:58:22.000048Z",
     "shell.execute_reply": "2024-11-20T15:58:21.997879Z"
    },
    "papermill": {
     "duration": 0.237409,
     "end_time": "2024-11-20T15:58:22.002406",
     "exception": false,
     "start_time": "2024-11-20T15:58:21.764997",
     "status": "completed"
    },
    "tags": []
   },
   "outputs": [
    {
     "name": "stdout",
     "output_type": "stream",
     "text": [
      "  User_Type rideable_type  Counts\n",
      "1    casual  classic_bike  860050\n",
      "2    casual   docked_bike   71939\n",
      "3    casual electric_bike 1028217\n",
      "4    member  classic_bike 1778636\n",
      "5    member electric_bike 1703233\n"
     ]
    }
   ],
   "source": [
    "# The use of bike types between members and casual riders\n",
    "\n",
    "combined_data <- tripdata_v2 %>%\n",
    "  count(member_casual, rideable_type) %>%  \n",
    "  rename(User_Type = member_casual, Counts = n)\n",
    "\n",
    "print(combined_data)\n"
   ]
  },
  {
   "cell_type": "code",
   "execution_count": 19,
   "id": "28793a7f",
   "metadata": {
    "execution": {
     "iopub.execute_input": "2024-11-20T15:58:22.035463Z",
     "iopub.status.busy": "2024-11-20T15:58:22.033931Z",
     "iopub.status.idle": "2024-11-20T15:58:22.394727Z",
     "shell.execute_reply": "2024-11-20T15:58:22.392786Z"
    },
    "papermill": {
     "duration": 0.38032,
     "end_time": "2024-11-20T15:58:22.397048",
     "exception": false,
     "start_time": "2024-11-20T15:58:22.016728",
     "status": "completed"
    },
    "tags": []
   },
   "outputs": [
    {
     "data": {
      "image/png": "[encoded data removed]"
     },
     "metadata": {
      "image/png": {
       "height": 420,
       "width": 420
      }
     },
     "output_type": "display_data"
    }
   ],
   "source": [
    "ggplot(combined_data, aes(x = rideable_type, y = Counts, fill = User_Type)) +\n",
    "  geom_bar(stat = \"identity\", position = \"dodge\") +\n",
    "  labs(title = \"Number of Bike Types Usage by User Type\",\n",
    "       x = \"Bike Type\", y = \"Number Of Rides\") +\n",
    "  theme_minimal() +\n",
    "  theme(axis.text.x = element_text(angle = 45, hjust = 1)) +\n",
    "  scale_fill_manual(values = c(\"member\" = \"#9D84B7\", \"casual\" = \"#8EC6C5\")) +\n",
    "  geom_text(aes(label = Counts), position = position_dodge(width = 0.9), vjust = -0.5)\n"
   ]
  },
  {
   "cell_type": "markdown",
   "id": "00bc430c",
   "metadata": {
    "papermill": {
     "duration": 0.015582,
     "end_time": "2024-11-20T15:58:22.428635",
     "exception": false,
     "start_time": "2024-11-20T15:58:22.413053",
     "status": "completed"
    },
    "tags": []
   },
   "source": [
    "**Result:** It's clear that the classic bike remains the top choice for most members, with 1,778,636 rides. Electric bikes, on the other hand, are popular among casual riders, totaling 1,028,217 rides. Docked bikes, however, lag behind with just 71,939 rides, primarily used by casual riders.\n"
   ]
  },
  {
   "cell_type": "markdown",
   "id": "89370373",
   "metadata": {
    "papermill": {
     "duration": 0.015445,
     "end_time": "2024-11-20T15:58:22.459747",
     "exception": false,
     "start_time": "2024-11-20T15:58:22.444302",
     "status": "completed"
    },
    "tags": []
   },
   "source": [
    "* The number of rides and the average ride length are carefully examined  for each day of the week and for each user type. "
   ]
  },
  {
   "cell_type": "code",
   "execution_count": 20,
   "id": "3081475d",
   "metadata": {
    "execution": {
     "iopub.execute_input": "2024-11-20T15:58:22.494410Z",
     "iopub.status.busy": "2024-11-20T15:58:22.492877Z",
     "iopub.status.idle": "2024-11-20T15:58:22.818203Z",
     "shell.execute_reply": "2024-11-20T15:58:22.815916Z"
    },
    "papermill": {
     "duration": 0.34546,
     "end_time": "2024-11-20T15:58:22.820690",
     "exception": false,
     "start_time": "2024-11-20T15:58:22.475230",
     "status": "completed"
    },
    "tags": []
   },
   "outputs": [
    {
     "name": "stdout",
     "output_type": "stream",
     "text": [
      "\u001b[90m# A tibble: 14 × 4\u001b[39m\n",
      "   member_casual day_of_week number_of_rides average_duration\n",
      "   \u001b[3m\u001b[90m<chr>\u001b[39m\u001b[23m         \u001b[3m\u001b[90m<ord>\u001b[39m\u001b[23m                 \u001b[3m\u001b[90m<int>\u001b[39m\u001b[23m            \u001b[3m\u001b[90m<dbl>\u001b[39m\u001b[23m\n",
      "\u001b[90m 1\u001b[39m casual        Sunday               \u001b[4m3\u001b[24m\u001b[4m1\u001b[24m\u001b[4m4\u001b[24m403             25.2\n",
      "\u001b[90m 2\u001b[39m casual        Monday               \u001b[4m2\u001b[24m\u001b[4m2\u001b[24m\u001b[4m3\u001b[24m046             21.4\n",
      "\u001b[90m 3\u001b[39m casual        Tuesday              \u001b[4m2\u001b[24m\u001b[4m3\u001b[24m\u001b[4m3\u001b[24m246             19.5\n",
      "\u001b[90m 4\u001b[39m casual        Wednesday            \u001b[4m2\u001b[24m\u001b[4m3\u001b[24m\u001b[4m9\u001b[24m063             18.5\n",
      "\u001b[90m 5\u001b[39m casual        Thursday             \u001b[4m2\u001b[24m\u001b[4m6\u001b[24m\u001b[4m2\u001b[24m864             18.8\n",
      "\u001b[90m 6\u001b[39m casual        Friday               \u001b[4m2\u001b[24m\u001b[4m9\u001b[24m\u001b[4m8\u001b[24m859             21.0\n",
      "\u001b[90m 7\u001b[39m casual        Saturday             \u001b[4m3\u001b[24m\u001b[4m8\u001b[24m\u001b[4m8\u001b[24m725             24.5\n",
      "\u001b[90m 8\u001b[39m member        Sunday               \u001b[4m3\u001b[24m\u001b[4m7\u001b[24m\u001b[4m9\u001b[24m332             14.1\n",
      "\u001b[90m 9\u001b[39m member        Monday               \u001b[4m4\u001b[24m\u001b[4m6\u001b[24m\u001b[4m9\u001b[24m072             12.1\n",
      "\u001b[90m10\u001b[39m member        Tuesday              \u001b[4m5\u001b[24m\u001b[4m4\u001b[24m\u001b[4m1\u001b[24m749             12.3\n",
      "\u001b[90m11\u001b[39m member        Wednesday            \u001b[4m5\u001b[24m\u001b[4m6\u001b[24m\u001b[4m7\u001b[24m445             12.2\n",
      "\u001b[90m12\u001b[39m member        Thursday             \u001b[4m5\u001b[24m\u001b[4m7\u001b[24m\u001b[4m7\u001b[24m550             12.2\n",
      "\u001b[90m13\u001b[39m member        Friday               \u001b[4m5\u001b[24m\u001b[4m0\u001b[24m\u001b[4m4\u001b[24m546             12.6\n",
      "\u001b[90m14\u001b[39m member        Saturday             \u001b[4m4\u001b[24m\u001b[4m4\u001b[24m\u001b[4m2\u001b[24m175             14.2\n"
     ]
    }
   ],
   "source": [
    "# Specify the days of the week in the desired order and analyze ridership data by each day for members vs casual riders\n",
    "\n",
    "tripdata_v2$day_of_week <- ordered(tripdata_v2$day_of_week, levels=c(\"Sunday\", \"Monday\", \"Tuesday\", \"Wednesday\", \"Thursday\", \"Friday\", \"Saturday\"))\n",
    "\n",
    "\n",
    "result <- tripdata_v2 %>% \n",
    "  group_by(member_casual, day_of_week) %>% \n",
    "  summarise(number_of_rides = n(),\n",
    "            average_duration = round(mean(ride_length), 2), .groups = \"drop\") %>% \n",
    "  arrange(member_casual, day_of_week)\n",
    "\n",
    "print(result)\n"
   ]
  },
  {
   "cell_type": "code",
   "execution_count": 21,
   "id": "d0fdde7a",
   "metadata": {
    "execution": {
     "iopub.execute_input": "2024-11-20T15:58:22.856983Z",
     "iopub.status.busy": "2024-11-20T15:58:22.854479Z",
     "iopub.status.idle": "2024-11-20T15:58:23.183667Z",
     "shell.execute_reply": "2024-11-20T15:58:23.181568Z"
    },
    "papermill": {
     "duration": 0.350994,
     "end_time": "2024-11-20T15:58:23.187256",
     "exception": false,
     "start_time": "2024-11-20T15:58:22.836262",
     "status": "completed"
    },
    "tags": []
   },
   "outputs": [
    {
     "data": {
      "image/png": "[encoded data removed]"
     },
     "metadata": {
      "image/png": {
       "height": 420,
       "width": 420
      }
     },
     "output_type": "display_data"
    }
   ],
   "source": [
    "ggplot(result, aes(x = day_of_week, y = average_duration, fill = member_casual)) +\n",
    "  geom_col(position = \"dodge\") +\n",
    "  labs(x = \"Weekday\", y = \"Average Duration\", fill = \"User Type\",\n",
    "       title = \"Avg Ride Length by User Type and Weekday\",\n",
    "       subtitle = \"From March 2023 to February 2024\") + \n",
    "  scale_fill_manual(values = c(\"member\" = \"#9D84B7\", \"casual\" = \"#8EC6C5\")) +\n",
    "  theme_minimal()\n",
    "\n"
   ]
  },
  {
   "cell_type": "code",
   "execution_count": 22,
   "id": "3c25813c",
   "metadata": {
    "execution": {
     "iopub.execute_input": "2024-11-20T15:58:23.233430Z",
     "iopub.status.busy": "2024-11-20T15:58:23.231068Z",
     "iopub.status.idle": "2024-11-20T15:58:23.583126Z",
     "shell.execute_reply": "2024-11-20T15:58:23.581132Z"
    },
    "papermill": {
     "duration": 0.377295,
     "end_time": "2024-11-20T15:58:23.587292",
     "exception": false,
     "start_time": "2024-11-20T15:58:23.209997",
     "status": "completed"
    },
    "tags": []
   },
   "outputs": [
    {
     "data": {
      "image/png": "[encoded data removed]"
     },
     "metadata": {
      "image/png": {
       "height": 420,
       "width": 420
      }
     },
     "output_type": "display_data"
    }
   ],
   "source": [
    "ggplot(result, aes(x = day_of_week, y = number_of_rides, fill = member_casual)) +\n",
    "  geom_col(position = \"dodge\") +\n",
    "  labs(x = \"Weekday\", y = \"number_of_rides\", fill = \"User Type\", \n",
    "       title = \"Total Number Of Rides by User Type and Weekday\",\n",
    "       subtitle = \"From March 2023 to February 2024\") +\n",
    "  scale_fill_manual(values = c(\"member\" = \"#9D84B7\", \"casual\" = \"#8EC6C5\")) +\n",
    "  theme_minimal()"
   ]
  },
  {
   "cell_type": "markdown",
   "id": "8c896604",
   "metadata": {
    "papermill": {
     "duration": 0.018469,
     "end_time": "2024-11-20T15:58:23.628568",
     "exception": false,
     "start_time": "2024-11-20T15:58:23.610099",
     "status": "completed"
    },
    "tags": []
   },
   "source": [
    "**Result:** Casual riders demonstrate a significant increase in both the number of rides and average ride durations on weekends. This suggests that people are more likely to prefer bike sharing service on weekends likely due to their increased availability of free time for leisure activities or longer trips. Members, on the other hand, have a significantly higher number of rides compared to casual riders and maintain a more consistent usage pattern on weekdays than on weekends , as they heavily rely on the bike-sharing service for their daily commute.\n"
   ]
  },
  {
   "cell_type": "markdown",
   "id": "ab267f80",
   "metadata": {
    "papermill": {
     "duration": 0.017739,
     "end_time": "2024-11-20T15:58:23.663821",
     "exception": false,
     "start_time": "2024-11-20T15:58:23.646082",
     "status": "completed"
    },
    "tags": []
   },
   "source": [
    "* To validate the accuracy of my previous findings, I took a closer look at how riders' usage patterns change throughout the day. This examination enabled me to uncover the nuances in how people utilize the service at different times"
   ]
  },
  {
   "cell_type": "code",
   "execution_count": 23,
   "id": "1bfdab55",
   "metadata": {
    "execution": {
     "iopub.execute_input": "2024-11-20T15:58:23.705067Z",
     "iopub.status.busy": "2024-11-20T15:58:23.702562Z",
     "iopub.status.idle": "2024-11-20T15:58:39.960041Z",
     "shell.execute_reply": "2024-11-20T15:58:39.957805Z"
    },
    "papermill": {
     "duration": 16.281022,
     "end_time": "2024-11-20T15:58:39.962930",
     "exception": false,
     "start_time": "2024-11-20T15:58:23.681908",
     "status": "completed"
    },
    "tags": []
   },
   "outputs": [
    {
     "name": "stdout",
     "output_type": "stream",
     "text": [
      "\u001b[90m# A tibble: 48 × 3\u001b[39m\n",
      "   member_casual hour_of_day num_of_rides\n",
      "   \u001b[3m\u001b[90m<chr>\u001b[39m\u001b[23m         \u001b[3m\u001b[90m<chr>\u001b[39m\u001b[23m              \u001b[3m\u001b[90m<int>\u001b[39m\u001b[23m\n",
      "\u001b[90m 1\u001b[39m casual        01 AM              \u001b[4m2\u001b[24m\u001b[4m2\u001b[24m465\n",
      "\u001b[90m 2\u001b[39m casual        01 PM             \u001b[4m1\u001b[24m\u001b[4m3\u001b[24m\u001b[4m0\u001b[24m108\n",
      "\u001b[90m 3\u001b[39m casual        02 AM              \u001b[4m1\u001b[24m\u001b[4m3\u001b[24m491\n",
      "\u001b[90m 4\u001b[39m casual        02 PM             \u001b[4m1\u001b[24m\u001b[4m3\u001b[24m\u001b[4m5\u001b[24m460\n",
      "\u001b[90m 5\u001b[39m casual        03 AM               \u001b[4m7\u001b[24m446\n",
      "\u001b[90m 6\u001b[39m casual        03 PM             \u001b[4m1\u001b[24m\u001b[4m5\u001b[24m\u001b[4m1\u001b[24m504\n",
      "\u001b[90m 7\u001b[39m casual        04 AM               \u001b[4m5\u001b[24m532\n",
      "\u001b[90m 8\u001b[39m casual        04 PM             \u001b[4m1\u001b[24m\u001b[4m7\u001b[24m\u001b[4m4\u001b[24m154\n",
      "\u001b[90m 9\u001b[39m casual        05 AM              \u001b[4m1\u001b[24m\u001b[4m0\u001b[24m700\n",
      "\u001b[90m10\u001b[39m casual        05 PM             \u001b[4m1\u001b[24m\u001b[4m9\u001b[24m\u001b[4m0\u001b[24m693\n",
      "\u001b[90m11\u001b[39m casual        06 AM              \u001b[4m2\u001b[24m\u001b[4m8\u001b[24m276\n",
      "\u001b[90m12\u001b[39m casual        06 PM             \u001b[4m1\u001b[24m\u001b[4m6\u001b[24m\u001b[4m4\u001b[24m159\n",
      "\u001b[90m13\u001b[39m casual        07 AM              \u001b[4m5\u001b[24m\u001b[4m0\u001b[24m409\n",
      "\u001b[90m14\u001b[39m casual        07 PM             \u001b[4m1\u001b[24m\u001b[4m2\u001b[24m\u001b[4m1\u001b[24m061\n",
      "\u001b[90m15\u001b[39m casual        08 AM              \u001b[4m6\u001b[24m\u001b[4m7\u001b[24m755\n",
      "\u001b[90m16\u001b[39m casual        08 PM              \u001b[4m8\u001b[24m\u001b[4m7\u001b[24m459\n",
      "\u001b[90m17\u001b[39m casual        09 AM              \u001b[4m6\u001b[24m\u001b[4m6\u001b[24m802\n",
      "\u001b[90m18\u001b[39m casual        09 PM              \u001b[4m7\u001b[24m\u001b[4m3\u001b[24m203\n",
      "\u001b[90m19\u001b[39m casual        10 AM              \u001b[4m8\u001b[24m\u001b[4m2\u001b[24m845\n",
      "\u001b[90m20\u001b[39m casual        10 PM              \u001b[4m6\u001b[24m\u001b[4m4\u001b[24m986\n",
      "\u001b[90m21\u001b[39m casual        11 AM             \u001b[4m1\u001b[24m\u001b[4m0\u001b[24m\u001b[4m5\u001b[24m417\n",
      "\u001b[90m22\u001b[39m casual        11 PM              \u001b[4m4\u001b[24m\u001b[4m6\u001b[24m575\n",
      "\u001b[90m23\u001b[39m casual        12 AM              \u001b[4m3\u001b[24m\u001b[4m4\u001b[24m648\n",
      "\u001b[90m24\u001b[39m casual        12 PM             \u001b[4m1\u001b[24m\u001b[4m2\u001b[24m\u001b[4m5\u001b[24m058\n",
      "\u001b[90m25\u001b[39m member        01 AM              \u001b[4m1\u001b[24m\u001b[4m9\u001b[24m641\n",
      "\u001b[90m26\u001b[39m member        01 PM             \u001b[4m1\u001b[24m\u001b[4m8\u001b[24m\u001b[4m7\u001b[24m726\n",
      "\u001b[90m27\u001b[39m member        02 AM              \u001b[4m1\u001b[24m\u001b[4m1\u001b[24m238\n",
      "\u001b[90m28\u001b[39m member        02 PM             \u001b[4m1\u001b[24m\u001b[4m9\u001b[24m\u001b[4m1\u001b[24m606\n",
      "\u001b[90m29\u001b[39m member        03 AM               \u001b[4m7\u001b[24m477\n",
      "\u001b[90m30\u001b[39m member        03 PM             \u001b[4m2\u001b[24m\u001b[4m3\u001b[24m\u001b[4m4\u001b[24m566\n",
      "\u001b[90m31\u001b[39m member        04 AM               \u001b[4m8\u001b[24m251\n",
      "\u001b[90m32\u001b[39m member        04 PM             \u001b[4m3\u001b[24m\u001b[4m1\u001b[24m\u001b[4m8\u001b[24m037\n",
      "\u001b[90m33\u001b[39m member        05 AM              \u001b[4m3\u001b[24m\u001b[4m2\u001b[24m312\n",
      "\u001b[90m34\u001b[39m member        05 PM             \u001b[4m3\u001b[24m\u001b[4m7\u001b[24m\u001b[4m2\u001b[24m241\n",
      "\u001b[90m35\u001b[39m member        06 AM             \u001b[4m1\u001b[24m\u001b[4m0\u001b[24m\u001b[4m0\u001b[24m500\n",
      "\u001b[90m36\u001b[39m member        06 PM             \u001b[4m2\u001b[24m\u001b[4m9\u001b[24m\u001b[4m3\u001b[24m093\n",
      "\u001b[90m37\u001b[39m member        07 AM             \u001b[4m1\u001b[24m\u001b[4m8\u001b[24m\u001b[4m6\u001b[24m943\n",
      "\u001b[90m38\u001b[39m member        07 PM             \u001b[4m2\u001b[24m\u001b[4m0\u001b[24m\u001b[4m6\u001b[24m825\n",
      "\u001b[90m39\u001b[39m member        08 AM             \u001b[4m2\u001b[24m\u001b[4m3\u001b[24m\u001b[4m4\u001b[24m515\n",
      "\u001b[90m40\u001b[39m member        08 PM             \u001b[4m1\u001b[24m\u001b[4m4\u001b[24m\u001b[4m3\u001b[24m923\n",
      "\u001b[90m41\u001b[39m member        09 AM             \u001b[4m1\u001b[24m\u001b[4m5\u001b[24m\u001b[4m6\u001b[24m639\n",
      "\u001b[90m42\u001b[39m member        09 PM             \u001b[4m1\u001b[24m\u001b[4m1\u001b[24m\u001b[4m1\u001b[24m330\n",
      "\u001b[90m43\u001b[39m member        10 AM             \u001b[4m1\u001b[24m\u001b[4m4\u001b[24m\u001b[4m0\u001b[24m380\n",
      "\u001b[90m44\u001b[39m member        10 PM              \u001b[4m8\u001b[24m\u001b[4m3\u001b[24m141\n",
      "\u001b[90m45\u001b[39m member        11 AM             \u001b[4m1\u001b[24m\u001b[4m6\u001b[24m\u001b[4m6\u001b[24m829\n",
      "\u001b[90m46\u001b[39m member        11 PM              \u001b[4m5\u001b[24m\u001b[4m2\u001b[24m814\n",
      "\u001b[90m47\u001b[39m member        12 AM              \u001b[4m3\u001b[24m\u001b[4m3\u001b[24m067\n",
      "\u001b[90m48\u001b[39m member        12 PM             \u001b[4m1\u001b[24m\u001b[4m8\u001b[24m\u001b[4m8\u001b[24m775\n"
     ]
    }
   ],
   "source": [
    "# Number of Rides per Hour for Casual Riders and Members\n",
    "\n",
    "tripdata_v2 <- tripdata_v2 %>%\n",
    "  mutate(hour_of_day = format(as.POSIXct(started_at), \"%I %p\"))\n",
    "\n",
    "rides_per_hour <- tripdata_v2 %>%\n",
    "  group_by(member_casual, hour_of_day) %>%\n",
    "  summarise(num_of_rides = n(), .groups = 'drop') \n",
    "\n",
    "\n",
    "print(rides_per_hour, n = nrow(rides_per_hour))"
   ]
  },
  {
   "cell_type": "code",
   "execution_count": 24,
   "id": "efa9e3ea",
   "metadata": {
    "execution": {
     "iopub.execute_input": "2024-11-20T15:58:40.000945Z",
     "iopub.status.busy": "2024-11-20T15:58:39.999389Z",
     "iopub.status.idle": "2024-11-20T15:58:40.351632Z",
     "shell.execute_reply": "2024-11-20T15:58:40.349787Z"
    },
    "papermill": {
     "duration": 0.373574,
     "end_time": "2024-11-20T15:58:40.353906",
     "exception": false,
     "start_time": "2024-11-20T15:58:39.980332",
     "status": "completed"
    },
    "tags": []
   },
   "outputs": [
    {
     "data": {
      "image/png": "[encoded data removed]"
     },
     "metadata": {
      "image/png": {
       "height": 420,
       "width": 420
      }
     },
     "output_type": "display_data"
    }
   ],
   "source": [
    "ggplot(rides_per_hour, aes(x = hour_of_day, y = num_of_rides, fill = member_casual)) +\n",
    "  geom_bar(stat = \"identity\", position = \"dodge\") +\n",
    "  labs(title = \"Number of Rides per Hour by User Type\",\n",
    "       x = \"Hour of the Day\", y = \"Number of Rides\",\n",
    "       fill = \"User Type\") +\n",
    "  scale_fill_manual(values = c(\"member\" = \"#9D84B7\", \"casual\" = \"#8EC6C5\")) +\n",
    "  theme_minimal() +\n",
    "  theme_minimal() +\n",
    "  theme(axis.text.x = element_text(angle = 45, hjust = 1)) +\n",
    "  scale_x_discrete(limits = c(\"12 AM\", \"01 AM\", \"02 AM\", \"03 AM\", \"04 AM\", \"05 AM\", \n",
    "                              \"06 AM\", \"07 AM\", \"08 AM\", \"09 AM\", \"10 AM\", \"11 AM\", \n",
    "                              \"12 PM\", \"01 PM\", \"02 PM\", \"03 PM\", \"04 PM\", \"05 PM\", \n",
    "                              \"06 PM\", \"07 PM\", \"08 PM\", \"09 PM\", \"10 PM\", \"11 PM\")) +\n",
    "  scale_y_continuous(labels = scales::comma_format(scale = 1e-3, accuracy = 0.1)) \n",
    "\n"
   ]
  },
  {
   "cell_type": "markdown",
   "id": "514e8407",
   "metadata": {
    "papermill": {
     "duration": 0.018036,
     "end_time": "2024-11-20T15:58:40.390407",
     "exception": false,
     "start_time": "2024-11-20T15:58:40.372371",
     "status": "completed"
    },
    "tags": []
   },
   "source": [
    "**Result:**  Casual riders and members have different peak hours when it comes to using the service. For casual riders, the peak hours are typically in the afternoon and early evening, between 12 PM and 6 PM. On the other hand, members tend to have a more consistent usage pattern throughout the day. They tend to use the service more during morning commutes, from 7 am to 9 am, as well as in the evenings, from 4 pm to 8 pm.\n"
   ]
  },
  {
   "cell_type": "markdown",
   "id": "07b9b950",
   "metadata": {
    "papermill": {
     "duration": 0.017762,
     "end_time": "2024-11-20T15:58:40.426041",
     "exception": false,
     "start_time": "2024-11-20T15:58:40.408279",
     "status": "completed"
    },
    "tags": []
   },
   "source": [
    "* I want to discover popular seasons and months for biking.\n"
   ]
  },
  {
   "cell_type": "code",
   "execution_count": 25,
   "id": "d2646a82",
   "metadata": {
    "execution": {
     "iopub.execute_input": "2024-11-20T15:58:40.467051Z",
     "iopub.status.busy": "2024-11-20T15:58:40.465334Z",
     "iopub.status.idle": "2024-11-20T15:58:40.781805Z",
     "shell.execute_reply": "2024-11-20T15:58:40.779499Z"
    },
    "papermill": {
     "duration": 0.33987,
     "end_time": "2024-11-20T15:58:40.784181",
     "exception": false,
     "start_time": "2024-11-20T15:58:40.444311",
     "status": "completed"
    },
    "tags": []
   },
   "outputs": [
    {
     "name": "stdout",
     "output_type": "stream",
     "text": [
      "\u001b[90m# A tibble: 24 × 4\u001b[39m\n",
      "   member_casual month number_of_rides average_duration\n",
      "   \u001b[3m\u001b[90m<chr>\u001b[39m\u001b[23m         \u001b[3m\u001b[90m<ord>\u001b[39m\u001b[23m           \u001b[3m\u001b[90m<int>\u001b[39m\u001b[23m            \u001b[3m\u001b[90m<dbl>\u001b[39m\u001b[23m\n",
      "\u001b[90m 1\u001b[39m casual        Mar             \u001b[4m5\u001b[24m\u001b[4m9\u001b[24m133             16.1\n",
      "\u001b[90m 2\u001b[39m casual        Apr            \u001b[4m1\u001b[24m\u001b[4m3\u001b[24m\u001b[4m9\u001b[24m990             21.7\n",
      "\u001b[90m 3\u001b[39m casual        May            \u001b[4m2\u001b[24m\u001b[4m2\u001b[24m\u001b[4m3\u001b[24m304             23.1\n",
      "\u001b[90m 4\u001b[39m casual        Jun            \u001b[4m2\u001b[24m\u001b[4m8\u001b[24m\u001b[4m8\u001b[24m044             22.7\n",
      "\u001b[90m 5\u001b[39m casual        Jul            \u001b[4m3\u001b[24m\u001b[4m1\u001b[24m\u001b[4m6\u001b[24m965             23.8\n",
      "\u001b[90m 6\u001b[39m casual        Aug            \u001b[4m2\u001b[24m\u001b[4m9\u001b[24m\u001b[4m8\u001b[24m520             22.7\n",
      "\u001b[90m 7\u001b[39m casual        Sep            \u001b[4m2\u001b[24m\u001b[4m5\u001b[24m\u001b[4m1\u001b[24m598             21.9\n",
      "\u001b[90m 8\u001b[39m casual        Oct            \u001b[4m1\u001b[24m\u001b[4m6\u001b[24m\u001b[4m9\u001b[24m954             19.7\n",
      "\u001b[90m 9\u001b[39m casual        Nov             \u001b[4m9\u001b[24m\u001b[4m4\u001b[24m577             16.6\n",
      "\u001b[90m10\u001b[39m casual        Dec             \u001b[4m4\u001b[24m\u001b[4m9\u001b[24m546             15.2\n",
      "\u001b[90m11\u001b[39m casual        Jan             \u001b[4m2\u001b[24m\u001b[4m3\u001b[24m185             14.3\n",
      "\u001b[90m12\u001b[39m casual        Feb             \u001b[4m4\u001b[24m\u001b[4m5\u001b[24m390             18.7\n",
      "\u001b[90m13\u001b[39m member        Mar            \u001b[4m1\u001b[24m\u001b[4m8\u001b[24m\u001b[4m3\u001b[24m565             10.8\n",
      "\u001b[90m14\u001b[39m member        Apr            \u001b[4m2\u001b[24m\u001b[4m6\u001b[24m\u001b[4m2\u001b[24m026             12.2\n",
      "\u001b[90m15\u001b[39m member        May            \u001b[4m3\u001b[24m\u001b[4m5\u001b[24m\u001b[4m1\u001b[24m231             13.2\n",
      "\u001b[90m16\u001b[39m member        Jun            \u001b[4m3\u001b[24m\u001b[4m9\u001b[24m\u001b[4m8\u001b[24m924             13.4\n",
      "\u001b[90m17\u001b[39m member        Jul            \u001b[4m4\u001b[24m\u001b[4m1\u001b[24m\u001b[4m5\u001b[24m622             13.8\n",
      "\u001b[90m18\u001b[39m member        Aug            \u001b[4m4\u001b[24m\u001b[4m4\u001b[24m\u001b[4m0\u001b[24m305             13.7\n",
      "\u001b[90m19\u001b[39m member        Sep            \u001b[4m3\u001b[24m\u001b[4m8\u001b[24m\u001b[4m8\u001b[24m337             13.1\n",
      "\u001b[90m20\u001b[39m member        Oct            \u001b[4m3\u001b[24m\u001b[4m4\u001b[24m\u001b[4m4\u001b[24m335             12.0\n",
      "\u001b[90m21\u001b[39m member        Nov            \u001b[4m2\u001b[24m\u001b[4m5\u001b[24m\u001b[4m2\u001b[24m101             11.5\n",
      "\u001b[90m22\u001b[39m member        Dec            \u001b[4m1\u001b[24m\u001b[4m6\u001b[24m\u001b[4m3\u001b[24m864             11.3\n",
      "\u001b[90m23\u001b[39m member        Jan            \u001b[4m1\u001b[24m\u001b[4m1\u001b[24m\u001b[4m3\u001b[24m015             11.9\n",
      "\u001b[90m24\u001b[39m member        Feb            \u001b[4m1\u001b[24m\u001b[4m6\u001b[24m\u001b[4m8\u001b[24m544             12.2\n"
     ]
    }
   ],
   "source": [
    "# Let's get insights into how average ride durations and number of rides vary across different months and seasons ((from march 2023 to february 2024)) for each type of user\n",
    "\n",
    "\n",
    "tripdata_v2$month <- ordered(tripdata_v2$month, levels=c(\"Mar\", \"Apr\", \"May\", \"Jun\", \"Jul\", \"Aug\", \"Sep\", \"Oct\", \"Nov\", \"Dec\", \"Jan\", \"Feb\"))\n",
    "\n",
    "result2 <- tripdata_v2 %>% \n",
    "  group_by(member_casual, month) %>% \n",
    "  summarise(number_of_rides = n(),\n",
    "            average_duration = mean(ride_length), .groups = \"drop\") %>% \n",
    "  arrange(member_casual, month)\n",
    "\n",
    "print(result2, n = nrow(result2))\n"
   ]
  },
  {
   "cell_type": "code",
   "execution_count": 26,
   "id": "2bec9688",
   "metadata": {
    "execution": {
     "iopub.execute_input": "2024-11-20T15:58:40.823760Z",
     "iopub.status.busy": "2024-11-20T15:58:40.822111Z",
     "iopub.status.idle": "2024-11-20T15:58:41.404160Z",
     "shell.execute_reply": "2024-11-20T15:58:41.402343Z"
    },
    "papermill": {
     "duration": 0.604463,
     "end_time": "2024-11-20T15:58:41.406560",
     "exception": false,
     "start_time": "2024-11-20T15:58:40.802097",
     "status": "completed"
    },
    "tags": []
   },
   "outputs": [
    {
     "data": {
      "image/png": "[encoded data removed]"
     },
     "metadata": {
      "image/png": {
       "height": 420,
       "width": 420
      }
     },
     "output_type": "display_data"
    },
    {
     "data": {
      "image/png": "[encoded data removed]"
     },
     "metadata": {
      "image/png": {
       "height": 420,
       "width": 420
      }
     },
     "output_type": "display_data"
    }
   ],
   "source": [
    "ggplot(result2, aes(x = month, y = average_duration, fill = member_casual)) +\n",
    "  geom_col(position = \"dodge\") +\n",
    "  labs(x = \"Month\", y = \"Average Duration\", fill = \"User Type\") +\n",
    "  scale_fill_manual(values = c(\"member\" = \"#9D84B7\", \"casual\" = \"#8EC6C5\")) +\n",
    "  theme_minimal()\n",
    "\n",
    "ggplot(result2, aes(x = month, y = number_of_rides, fill = member_casual)) +\n",
    "  geom_col(position = \"dodge\") +\n",
    "  labs(x = \"Month\", y = \"number_of_rides\", fill = \"User Type\") +\n",
    "  scale_fill_manual(values = c(\"member\" = \"#9D84B7\", \"casual\" = \"#8EC6C5\")) +\n",
    "  theme_minimal()\n",
    "\n"
   ]
  },
  {
   "cell_type": "code",
   "execution_count": 27,
   "id": "fc792474",
   "metadata": {
    "execution": {
     "iopub.execute_input": "2024-11-20T15:58:41.449303Z",
     "iopub.status.busy": "2024-11-20T15:58:41.447667Z",
     "iopub.status.idle": "2024-11-20T15:58:43.947981Z",
     "shell.execute_reply": "2024-11-20T15:58:43.945979Z"
    },
    "papermill": {
     "duration": 2.524179,
     "end_time": "2024-11-20T15:58:43.950466",
     "exception": false,
     "start_time": "2024-11-20T15:58:41.426287",
     "status": "completed"
    },
    "tags": []
   },
   "outputs": [
    {
     "name": "stdout",
     "output_type": "stream",
     "text": [
      "\u001b[90m# A tibble: 8 × 4\u001b[39m\n",
      "  member_casual season number_of_rides average_duration\n",
      "  \u001b[3m\u001b[90m<chr>\u001b[39m\u001b[23m         \u001b[3m\u001b[90m<chr>\u001b[39m\u001b[23m            \u001b[3m\u001b[90m<int>\u001b[39m\u001b[23m            \u001b[3m\u001b[90m<dbl>\u001b[39m\u001b[23m\n",
      "\u001b[90m1\u001b[39m casual        Fall            \u001b[4m5\u001b[24m\u001b[4m1\u001b[24m\u001b[4m6\u001b[24m129             20.2\n",
      "\u001b[90m2\u001b[39m casual        Spring          \u001b[4m4\u001b[24m\u001b[4m2\u001b[24m\u001b[4m2\u001b[24m427             21.7\n",
      "\u001b[90m3\u001b[39m casual        Summer          \u001b[4m9\u001b[24m\u001b[4m0\u001b[24m\u001b[4m3\u001b[24m529             23.1\n",
      "\u001b[90m4\u001b[39m casual        Winter          \u001b[4m1\u001b[24m\u001b[4m1\u001b[24m\u001b[4m8\u001b[24m121             16.4\n",
      "\u001b[90m5\u001b[39m member        Fall            \u001b[4m9\u001b[24m\u001b[4m8\u001b[24m\u001b[4m4\u001b[24m773             12.3\n",
      "\u001b[90m6\u001b[39m member        Spring          \u001b[4m7\u001b[24m\u001b[4m9\u001b[24m\u001b[4m6\u001b[24m822             12.3\n",
      "\u001b[90m7\u001b[39m member        Summer         1\u001b[4m2\u001b[24m\u001b[4m5\u001b[24m\u001b[4m4\u001b[24m851             13.7\n",
      "\u001b[90m8\u001b[39m member        Winter          \u001b[4m4\u001b[24m\u001b[4m4\u001b[24m\u001b[4m5\u001b[24m423             11.8\n"
     ]
    }
   ],
   "source": [
    "result2 <- tripdata_v2 %>%\n",
    "  mutate(season = case_when(\n",
    "    month %in% c(\"Dec\", \"Jan\", \"Feb\") ~ \"Winter\",\n",
    "    month %in% c(\"Mar\", \"Apr\", \"May\") ~ \"Spring\",\n",
    "    month %in% c(\"Jun\", \"Jul\", \"Aug\") ~ \"Summer\",\n",
    "    month %in% c(\"Sep\", \"Oct\", \"Nov\") ~ \"Fall\"\n",
    "  )) %>%\n",
    "  group_by(member_casual, season) %>%\n",
    "  summarise(number_of_rides = n(),\n",
    "            average_duration = mean(ride_length), .groups = \"drop\") %>%\n",
    "  arrange(member_casual, season)\n",
    "\n",
    "print(result2, n = nrow(result2))\n",
    "\n"
   ]
  },
  {
   "cell_type": "code",
   "execution_count": 28,
   "id": "81c89423",
   "metadata": {
    "execution": {
     "iopub.execute_input": "2024-11-20T15:58:43.997072Z",
     "iopub.status.busy": "2024-11-20T15:58:43.993907Z",
     "iopub.status.idle": "2024-11-20T15:58:44.331035Z",
     "shell.execute_reply": "2024-11-20T15:58:44.328343Z"
    },
    "papermill": {
     "duration": 0.363677,
     "end_time": "2024-11-20T15:58:44.334044",
     "exception": false,
     "start_time": "2024-11-20T15:58:43.970367",
     "status": "completed"
    },
    "tags": []
   },
   "outputs": [
    {
     "data": {
      "image/png": "[encoded data removed]"
     },
     "metadata": {
      "image/png": {
       "height": 420,
       "width": 420
      }
     },
     "output_type": "display_data"
    }
   ],
   "source": [
    "ggplot(result2, aes(x = season, y = number_of_rides, fill = member_casual)) +\n",
    "  geom_bar(stat = \"identity\", position = \"dodge\") +\n",
    "  labs(title = \"Number of Rides by Season and User Type\",\n",
    "       x = \"Season\",\n",
    "       y = \"Number of Rides\",\n",
    "       fill = \"User Type\") +\n",
    "scale_fill_manual(values = c(\"member\" = \"#9D84B7\", \"casual\" = \"#8EC6C5\")) +\n",
    "  theme_minimal()\n"
   ]
  },
  {
   "cell_type": "markdown",
   "id": "a89f72c8",
   "metadata": {
    "papermill": {
     "duration": 0.019616,
     "end_time": "2024-11-20T15:58:44.373838",
     "exception": false,
     "start_time": "2024-11-20T15:58:44.354222",
     "status": "completed"
    },
    "tags": []
   },
   "source": [
    "**Result:**  By analyzing the data on riding behavior throughout the different seasons, it becomes evident that there is a correlation between weather and the frequency and duration of bike rides. The findings suggest that both casual riders and members tend to be more active during the warmer months (June to August), which is understandable given the more favorable riding conditions. "
   ]
  },
  {
   "cell_type": "markdown",
   "id": "6c891d3a",
   "metadata": {
    "papermill": {
     "duration": 0.01977,
     "end_time": "2024-11-20T15:58:44.413087",
     "exception": false,
     "start_time": "2024-11-20T15:58:44.393317",
     "status": "completed"
    },
    "tags": []
   },
   "source": [
    "* To find the top 10 most popular start stations for both members and casual riders, I will filter out any rows where the start_station_name is missing. Once I have narrowed down the data set, I will then make sure that the start station names are unique and sorted in the correct order based on the number of rides. This way, the visualization will clearly show the top start stations for each user type.  After identifying the top start stations, I will also apply similar calculations to determine the top 10 most popular end stations for both members and casual riders. By following these steps, I will be able to create a comprehensive analysis of the most frequently used stations by different user types. "
   ]
  },
  {
   "cell_type": "code",
   "execution_count": 29,
   "id": "41b7fef5",
   "metadata": {
    "execution": {
     "iopub.execute_input": "2024-11-20T15:58:44.455990Z",
     "iopub.status.busy": "2024-11-20T15:58:44.454364Z",
     "iopub.status.idle": "2024-11-20T15:58:44.751863Z",
     "shell.execute_reply": "2024-11-20T15:58:44.750066Z"
    },
    "papermill": {
     "duration": 0.321402,
     "end_time": "2024-11-20T15:58:44.754178",
     "exception": false,
     "start_time": "2024-11-20T15:58:44.432776",
     "status": "completed"
    },
    "tags": []
   },
   "outputs": [
    {
     "name": "stdout",
     "output_type": "stream",
     "text": [
      "\u001b[90m# A tibble: 20 × 4\u001b[39m\n",
      "\u001b[90m# Groups:   member_casual [2]\u001b[39m\n",
      "   member_casual start_station_name                 number_of_rides  rank\n",
      "   \u001b[3m\u001b[90m<chr>\u001b[39m\u001b[23m         \u001b[3m\u001b[90m<chr>\u001b[39m\u001b[23m                                        \u001b[3m\u001b[90m<int>\u001b[39m\u001b[23m \u001b[3m\u001b[90m<int>\u001b[39m\u001b[23m\n",
      "\u001b[90m 1\u001b[39m casual        Streeter Dr & Grand Ave                      \u001b[4m4\u001b[24m\u001b[4m4\u001b[24m304     1\n",
      "\u001b[90m 2\u001b[39m casual        DuSable Lake Shore Dr & Monroe St            \u001b[4m2\u001b[24m\u001b[4m9\u001b[24m403     2\n",
      "\u001b[90m 3\u001b[39m casual        Michigan Ave & Oak St                        \u001b[4m2\u001b[24m\u001b[4m1\u001b[24m991     3\n",
      "\u001b[90m 4\u001b[39m casual        DuSable Lake Shore Dr & North Blvd           \u001b[4m1\u001b[24m\u001b[4m9\u001b[24m744     4\n",
      "\u001b[90m 5\u001b[39m casual        Millennium Park                              \u001b[4m1\u001b[24m\u001b[4m9\u001b[24m301     5\n",
      "\u001b[90m 6\u001b[39m casual        Shedd Aquarium                               \u001b[4m1\u001b[24m\u001b[4m6\u001b[24m980     6\n",
      "\u001b[90m 7\u001b[39m casual        Theater on the Lake                          \u001b[4m1\u001b[24m\u001b[4m5\u001b[24m866     7\n",
      "\u001b[90m 8\u001b[39m casual        Dusable Harbor                               \u001b[4m1\u001b[24m\u001b[4m4\u001b[24m912     8\n",
      "\u001b[90m 9\u001b[39m casual        Wells St & Concord Ln                        \u001b[4m1\u001b[24m\u001b[4m1\u001b[24m719     9\n",
      "\u001b[90m10\u001b[39m casual        Adler Planetarium                            \u001b[4m1\u001b[24m\u001b[4m1\u001b[24m536    10\n",
      "\u001b[90m11\u001b[39m member        Clinton St & Washington Blvd                 \u001b[4m2\u001b[24m\u001b[4m5\u001b[24m604     1\n",
      "\u001b[90m12\u001b[39m member        Kingsbury St & Kinzie St                     \u001b[4m2\u001b[24m\u001b[4m5\u001b[24m588     2\n",
      "\u001b[90m13\u001b[39m member        Clark St & Elm St                            \u001b[4m2\u001b[24m\u001b[4m4\u001b[24m135     3\n",
      "\u001b[90m14\u001b[39m member        Wells St & Concord Ln                        \u001b[4m2\u001b[24m\u001b[4m0\u001b[24m391     4\n",
      "\u001b[90m15\u001b[39m member        Clinton St & Madison St                      \u001b[4m2\u001b[24m\u001b[4m0\u001b[24m191     5\n",
      "\u001b[90m16\u001b[39m member        Wells St & Elm St                            \u001b[4m1\u001b[24m\u001b[4m9\u001b[24m562     6\n",
      "\u001b[90m17\u001b[39m member        Broadway & Barry Ave                         \u001b[4m1\u001b[24m\u001b[4m8\u001b[24m413     7\n",
      "\u001b[90m18\u001b[39m member        University Ave & 57th St                     \u001b[4m1\u001b[24m\u001b[4m8\u001b[24m068     8\n",
      "\u001b[90m19\u001b[39m member        Loomis St & Lexington St                     \u001b[4m1\u001b[24m\u001b[4m7\u001b[24m590     9\n",
      "\u001b[90m20\u001b[39m member        Canal St & Adams St                          \u001b[4m1\u001b[24m\u001b[4m6\u001b[24m874    10\n"
     ]
    }
   ],
   "source": [
    "#identify the top 10 most popular start stations by user type\n",
    "\n",
    "start_station_counts <- tripdata_v2 %>%\n",
    "  group_by(member_casual, start_station_name) %>%\n",
    "  summarise(number_of_rides = n(),.groups = \"drop\")\n",
    "\n",
    "start_station_clear <- start_station_counts %>%  \n",
    "filter(!is.na(start_station_name) & start_station_name != \"\")\n",
    "\n",
    "\n",
    "top_start_stations <- start_station_clear %>%\n",
    "  group_by(member_casual) %>%\n",
    "  top_n(10, number_of_rides) %>%\n",
    "  arrange(member_casual, desc(number_of_rides)) %>%\n",
    "  mutate(rank = row_number())\n",
    "\n",
    "print(top_start_stations)\n",
    "\n",
    "top_start_stations$start_station_name <- paste(top_start_stations$start_station_name, top_start_stations$rank, sep = \"_\")\n",
    "\n",
    "top_start_stations$start_station_name <- factor(top_start_stations$start_station_name, \n",
    "                                                levels = rev(top_start_stations$start_station_name))\n"
   ]
  },
  {
   "cell_type": "code",
   "execution_count": 30,
   "id": "6f83c53a",
   "metadata": {
    "execution": {
     "iopub.execute_input": "2024-11-20T15:58:44.798371Z",
     "iopub.status.busy": "2024-11-20T15:58:44.796810Z",
     "iopub.status.idle": "2024-11-20T15:58:45.235094Z",
     "shell.execute_reply": "2024-11-20T15:58:45.233178Z"
    },
    "papermill": {
     "duration": 0.463642,
     "end_time": "2024-11-20T15:58:45.237747",
     "exception": false,
     "start_time": "2024-11-20T15:58:44.774105",
     "status": "completed"
    },
    "tags": []
   },
   "outputs": [
    {
     "data": {
      "image/png": "[encoded data removed]"
     },
     "metadata": {
      "image/png": {
       "height": 420,
       "width": 420
      }
     },
     "output_type": "display_data"
    }
   ],
   "source": [
    "\n",
    "ggplot(top_start_stations, aes(x = number_of_rides, y = start_station_name, fill = member_casual)) +\n",
    "  geom_bar(stat = \"identity\", position = \"dodge\") +\n",
    "  labs(title = \"Top 10 Most Popular Start Stations\",\n",
    "       x = \"Number of Rides\",\n",
    "       y = \"Start Station\",\n",
    "       fill = \"User Type\") +\n",
    "  scale_fill_manual(values = c(\"member\" = \"#9D84B7\", \"casual\" = \"#8EC6C5\")) +\n",
    "  theme_minimal() +\n",
    "  theme(axis.text.x = element_text(angle = 45, hjust = 1)) +\n",
    "  facet_wrap(~ member_casual, scales = \"free\")\n"
   ]
  },
  {
   "cell_type": "code",
   "execution_count": 31,
   "id": "58e54df3",
   "metadata": {
    "execution": {
     "iopub.execute_input": "2024-11-20T15:58:45.285462Z",
     "iopub.status.busy": "2024-11-20T15:58:45.283916Z",
     "iopub.status.idle": "2024-11-20T15:58:45.566648Z",
     "shell.execute_reply": "2024-11-20T15:58:45.564838Z"
    },
    "papermill": {
     "duration": 0.308983,
     "end_time": "2024-11-20T15:58:45.569049",
     "exception": false,
     "start_time": "2024-11-20T15:58:45.260066",
     "status": "completed"
    },
    "tags": []
   },
   "outputs": [
    {
     "name": "stdout",
     "output_type": "stream",
     "text": [
      "\u001b[90m# A tibble: 20 × 4\u001b[39m\n",
      "\u001b[90m# Groups:   member_casual [2]\u001b[39m\n",
      "   member_casual end_station_name                   number_of_rides  rank\n",
      "   \u001b[3m\u001b[90m<chr>\u001b[39m\u001b[23m         \u001b[3m\u001b[90m<chr>\u001b[39m\u001b[23m                                        \u001b[3m\u001b[90m<int>\u001b[39m\u001b[23m \u001b[3m\u001b[90m<int>\u001b[39m\u001b[23m\n",
      "\u001b[90m 1\u001b[39m casual        Streeter Dr & Grand Ave                      \u001b[4m4\u001b[24m\u001b[4m7\u001b[24m964     1\n",
      "\u001b[90m 2\u001b[39m casual        DuSable Lake Shore Dr & Monroe St            \u001b[4m2\u001b[24m\u001b[4m6\u001b[24m729     2\n",
      "\u001b[90m 3\u001b[39m casual        Michigan Ave & Oak St                        \u001b[4m2\u001b[24m\u001b[4m3\u001b[24m159     3\n",
      "\u001b[90m 4\u001b[39m casual        DuSable Lake Shore Dr & North Blvd           \u001b[4m2\u001b[24m\u001b[4m2\u001b[24m860     4\n",
      "\u001b[90m 5\u001b[39m casual        Millennium Park                              \u001b[4m2\u001b[24m\u001b[4m1\u001b[24m437     5\n",
      "\u001b[90m 6\u001b[39m casual        Theater on the Lake                          \u001b[4m1\u001b[24m\u001b[4m7\u001b[24m243     6\n",
      "\u001b[90m 7\u001b[39m casual        Shedd Aquarium                               \u001b[4m1\u001b[24m\u001b[4m4\u001b[24m961     7\n",
      "\u001b[90m 8\u001b[39m casual        Dusable Harbor                               \u001b[4m1\u001b[24m\u001b[4m3\u001b[24m074     8\n",
      "\u001b[90m 9\u001b[39m casual        Wells St & Concord Ln                        \u001b[4m1\u001b[24m\u001b[4m1\u001b[24m536     9\n",
      "\u001b[90m10\u001b[39m casual        Montrose Harbor                              \u001b[4m1\u001b[24m\u001b[4m1\u001b[24m355    10\n",
      "\u001b[90m11\u001b[39m member        Clinton St & Washington Blvd                 \u001b[4m2\u001b[24m\u001b[4m6\u001b[24m807     1\n",
      "\u001b[90m12\u001b[39m member        Kingsbury St & Kinzie St                     \u001b[4m2\u001b[24m\u001b[4m5\u001b[24m426     2\n",
      "\u001b[90m13\u001b[39m member        Clark St & Elm St                            \u001b[4m2\u001b[24m\u001b[4m3\u001b[24m976     3\n",
      "\u001b[90m14\u001b[39m member        Clinton St & Madison St                      \u001b[4m2\u001b[24m\u001b[4m1\u001b[24m904     4\n",
      "\u001b[90m15\u001b[39m member        Wells St & Concord Ln                        \u001b[4m2\u001b[24m\u001b[4m1\u001b[24m315     5\n",
      "\u001b[90m16\u001b[39m member        Wells St & Elm St                            \u001b[4m1\u001b[24m\u001b[4m9\u001b[24m549     6\n",
      "\u001b[90m17\u001b[39m member        Broadway & Barry Ave                         \u001b[4m1\u001b[24m\u001b[4m8\u001b[24m925     7\n",
      "\u001b[90m18\u001b[39m member        University Ave & 57th St                     \u001b[4m1\u001b[24m\u001b[4m8\u001b[24m515     8\n",
      "\u001b[90m19\u001b[39m member        Canal St & Adams St                          \u001b[4m1\u001b[24m\u001b[4m7\u001b[24m221     9\n",
      "\u001b[90m20\u001b[39m member        Loomis St & Lexington St                     \u001b[4m1\u001b[24m\u001b[4m7\u001b[24m221    10\n"
     ]
    }
   ],
   "source": [
    "#identify the top 10 most popular end stations by user type\n",
    "\n",
    "end_station_counts <- tripdata_v2 %>%\n",
    "  group_by(member_casual, end_station_name) %>%\n",
    "  summarise(number_of_rides = n(),.groups = \"drop\")\n",
    "\n",
    "end_station_clear <- end_station_counts %>%  \n",
    "  filter(!is.na(end_station_name) & end_station_name != \"\")\n",
    "\n",
    "\n",
    "top_end_stations <- end_station_clear %>%\n",
    "  group_by(member_casual) %>%\n",
    "  top_n(10, number_of_rides) %>%\n",
    "  arrange(member_casual, desc(number_of_rides)) %>%\n",
    "  mutate(rank = row_number())\n",
    "\n",
    "print(top_end_stations)\n",
    "\n",
    "top_end_stations$end_station_name <- paste(top_end_stations$end_station_name, top_end_stations$rank, sep = \"_\")\n",
    "\n",
    "top_end_stations$end_station_name <- factor(top_end_stations$end_station_name, \n",
    "                                                levels = rev(top_end_stations$end_station_name))\n",
    "\n"
   ]
  },
  {
   "cell_type": "code",
   "execution_count": 32,
   "id": "ec4a0f8b",
   "metadata": {
    "execution": {
     "iopub.execute_input": "2024-11-20T15:58:45.616024Z",
     "iopub.status.busy": "2024-11-20T15:58:45.614355Z",
     "iopub.status.idle": "2024-11-20T15:58:46.035997Z",
     "shell.execute_reply": "2024-11-20T15:58:46.034072Z"
    },
    "papermill": {
     "duration": 0.448191,
     "end_time": "2024-11-20T15:58:46.038727",
     "exception": false,
     "start_time": "2024-11-20T15:58:45.590536",
     "status": "completed"
    },
    "tags": []
   },
   "outputs": [
    {
     "data": {
      "image/png": "[encoded data removed]"
     },
     "metadata": {
      "image/png": {
       "height": 420,
       "width": 420
      }
     },
     "output_type": "display_data"
    }
   ],
   "source": [
    "ggplot(top_end_stations, aes(x = number_of_rides, y = end_station_name, fill = member_casual)) +\n",
    "  geom_bar(stat = \"identity\", position = \"dodge\") +\n",
    "  labs(title = \"Top 10 Most Popular End Stations\",\n",
    "       x = \"Number of Rides\",\n",
    "       y = \"End Station\",\n",
    "       fill = \"User Type\") +\n",
    "  scale_fill_manual(values = c(\"member\" = \"#9D84B7\", \"casual\" = \"#8EC6C5\")) +\n",
    "  theme_minimal() +\n",
    "  theme(axis.text.x = element_text(angle = 45, hjust = 1)) +\n",
    "  facet_wrap(~ member_casual, scales = \"free\")\n"
   ]
  },
  {
   "cell_type": "markdown",
   "id": "c139e901",
   "metadata": {
    "papermill": {
     "duration": 0.023875,
     "end_time": "2024-11-20T15:58:46.086553",
     "exception": false,
     "start_time": "2024-11-20T15:58:46.062678",
     "status": "completed"
    },
    "tags": []
   },
   "source": [
    "**Result:** I manually explored several station names using Google Maps to determine their closeness to universities, workplaces, and tourist attractions. The results indicated that when it comes to station selection, casual riders opt for stations in close proximity to popular tourist destinations such as museums and beaches, while members seem to favor stations closer to business centers and educational institutions.\n"
   ]
  },
  {
   "cell_type": "markdown",
   "id": "d151deed",
   "metadata": {
    "papermill": {
     "duration": 0.023997,
     "end_time": "2024-11-20T15:58:46.133842",
     "exception": false,
     "start_time": "2024-11-20T15:58:46.109845",
     "status": "completed"
    },
    "tags": []
   },
   "source": [
    "<a id=\"Share-Phase\"></a>\n",
    "## 5. Share Phase\n",
    "\n",
    "\n",
    "Based on my analysis, here is a brief overview of the differences between members and casual riders:\n",
    "\n",
    "\n",
    "- Members account for 63.98% of total rides, while casual riders make up 36.02%.\n",
    "- Classic bikes are preferred by members, with a total of 1,778,636 rides, while casual riders opt for electric bikes, totaling 1,028,217 rides.\n",
    "- Casual riders tend to have increased ride counts and longer durations on weekends, while members maintain consistent weekday usage patterns.\n",
    "- Casual riders peak in the afternoon and early evening, specifically from 12 PM to 6 PM, while members have consistent usage throughout the day with peaks during morning and evening commutes.\n",
    "- Both members and casual riders experience increased ride counts and longer durations during the summer months, while activity decreases during the colder months.\n",
    "- Casual riders tend to use stations near tourist spots, while members prefer stations near business areas, universities, and schools.\n",
    "\n"
   ]
  },
  {
   "cell_type": "markdown",
   "id": "385a49b7",
   "metadata": {
    "papermill": {
     "duration": 0.02323,
     "end_time": "2024-11-20T15:58:46.180682",
     "exception": false,
     "start_time": "2024-11-20T15:58:46.157452",
     "status": "completed"
    },
    "tags": []
   },
   "source": [
    "<a id=\"Act-Phase\"></a>\n",
    "##  6. Act Phase\n",
    " \n",
    "* A well-structured pricing plan can effectively convey the financial advantages of an annual membership compared to single-ride or full-day passes for casual riders. This plan will emphasize the long-term benefits, highlighting the significant savings and additional perks that come with an annual membership. By clearly communicating these advantages, potential customers will be able to make an informed decision and recognize the value of choosing an annual membership. \n",
    "\n",
    "* Strategic partnerships and collaborations with local businesses and tourist attractions in popular areas for casual riders can open up a world of opportunities. These partnerships allow us to offer joint promotional discounts and limited-time offers, enticing more individuals to sign up for annual memberships. This not only benefits our company but also strengthens the local economy and fosters a sense of community among riders and businesses. Together, we can create a win-win situation that  drives growth and enhances the overall experience for riders in these areas.\n",
    " \n",
    "* We can boost the chances of casual riders switching to a full annual membership by customizing our promotions to meet their specific needs and preferences. Offering discounted weekly or monthly passes during peak periods could motivate them to see the advantages of a more long-term commitment.This approach not only addresses their immediate needs but also lays the foundation for a more sustainable and lasting relationship with our services.\n"
   ]
  }
 ],
 "metadata": {
  "kaggle": {
   "accelerator": "none",
   "dataSources": [
    {
     "datasetId": 4979839,
     "sourceId": 8375432,
     "sourceType": "datasetVersion"
    }
   ],
   "dockerImageVersionId": 30618,
   "isGpuEnabled": false,
   "isInternetEnabled": false,
   "language": "r",
   "sourceType": "notebook"
  },
  "kernelspec": {
   "display_name": "R",
   "language": "R",
   "name": "ir"
  },
  "language_info": {
   "codemirror_mode": "r",
   "file_extension": ".r",
   "mimetype": "text/x-r-source",
   "name": "R",
   "pygments_lexer": "r",
   "version": "4.0.5"
  },
  "papermill": {
   "default_parameters": {},
   "duration": 331.770724,
   "end_time": "2024-11-20T15:58:46.929431",
   "environment_variables": {},
   "exception": null,
   "input_path": "__notebook__.ipynb",
   "output_path": "__notebook__.ipynb",
   "parameters": {},
   "start_time": "2024-11-20T15:53:15.158707",
   "version": "2.5.0"
  }
 },
 "nbformat": 4,
 "nbformat_minor": 5
}
