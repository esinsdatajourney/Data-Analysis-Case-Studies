{
 "cells": [
  {
   "cell_type": "markdown",
   "id": "96e82918",
   "metadata": {
    "papermill": {
     "duration": 0.006921,
     "end_time": "2024-07-09T12:38:19.906927",
     "exception": false,
     "start_time": "2024-07-09T12:38:19.900006",
     "status": "completed"
    },
    "tags": []
   },
   "source": [
    "# Introduction\n",
    "\n",
    "As part of the [ Google Data Analytics Professional Certificate](http://www.coursera.org/professional-certificates/google-data-analytics), I am excited to share my approach to the Cyclistic bike-share analysis case study. In this engaging case study, I am playing the role of a junior data analyst within the marketing team at Cyclistic, a fictional bike-share company based in Chicago, collaborating closely with key team members to tackle the business questions at hand and deliver insightful results.\n",
    "\n",
    "To carry out the project successfully, I follow a well-defined set of steps. Google's certificate program outlines the data analysis process, which includes the following stages: asking the right questions, preparing the data, processing it effectively, analyzing the findings, sharing the results, and taking appropriate actions. Within this notebook, I present a practical demonstration of how I apply these steps to analyze the given dataset.\n",
    "\n",
    "I decided to use SQLite for this analysis to push my SQL skills further. But I also recreated the whole project in R for an extra challenge.[You can see it here.](https://www.kaggle.com/code/esinsari/cyclistic-bike-share-case-study-with-r)\n",
    "\n",
    "In order to identify trends, I will be closely examining the Cyclistic historical bike trip data over a 12-month period, starting from March 2023 and ending in February 2024. Motivate International Inc. has provided the data under this [license](http://www.divvybikes.com/data-license-agreement) for public access. The datasets, which are in the form of 'csv' files, can be found [here](http://divvy-tripdata.s3.amazonaws.com/index.html).\n",
    "\n",
    "First, I started by importing the dataset into DBeaver. I made sure the table structure and data types matched the original project in R. Then, I recreated the SQL queries and data transformations that I had previously implemented in R\n"
   ]
  },
  {
   "cell_type": "code",
   "execution_count": 1,
   "id": "2d6bf5d3",
   "metadata": {
    "execution": {
     "iopub.execute_input": "2024-07-09T12:38:19.924011Z",
     "iopub.status.busy": "2024-07-09T12:38:19.921507Z",
     "iopub.status.idle": "2024-07-09T12:38:20.037677Z",
     "shell.execute_reply": "2024-07-09T12:38:20.034890Z"
    },
    "papermill": {
     "duration": 0.127887,
     "end_time": "2024-07-09T12:38:20.040645",
     "exception": true,
     "start_time": "2024-07-09T12:38:19.912758",
     "status": "failed"
    },
    "tags": []
   },
   "outputs": [
    {
     "ename": "ERROR",
     "evalue": "Error in parse(text = x, srcfile = src): <text>:1:13: unexpected symbol\n1: --- Combine data\n                ^\n",
     "output_type": "error",
     "traceback": [
      "Error in parse(text = x, srcfile = src): <text>:1:13: unexpected symbol\n1: --- Combine data\n                ^\nTraceback:\n"
     ]
    }
   ],
   "source": [
    "--- Combine data from all monthly tables into one\n",
    "\n",
    "CREATE TABLE tripdata AS\n",
    "SELECT * FROM jan24\n",
    "UNION ALL\n",
    "SELECT * FROM feb24\n",
    "UNION ALL\n",
    "SELECT * FROM mar23\n",
    "UNION ALL\n",
    "SELECT * FROM apr23 \n",
    "UNION ALL\n",
    "SELECT * FROM may23 \n",
    "UNION ALL\n",
    "SELECT * FROM jun23 \n",
    "UNION ALL\n",
    "SELECT * FROM jul23 \n",
    "UNION ALL\n",
    "SELECT * FROM aug23 \n",
    "UNION ALL\n",
    "SELECT * FROM sep23 \n",
    "UNION ALL\n",
    "SELECT * FROM oct23 \n",
    "UNION ALL\n",
    "SELECT * FROM nov23 \n",
    "UNION ALL\n",
    "SELECT * FROM dec23 "
   ]
  },
  {
   "cell_type": "code",
   "execution_count": null,
   "id": "b60e338b",
   "metadata": {
    "papermill": {
     "duration": null,
     "end_time": null,
     "exception": null,
     "start_time": null,
     "status": "pending"
    },
    "tags": []
   },
   "outputs": [],
   "source": [
    "--- Lets see the structure of the newly merged data\n",
    "\n",
    "PRAGMA table_info(tripdata);\n",
    "\n",
    "SELECT COUNT(*) FROM tripdata;"
   ]
  },
  {
   "cell_type": "markdown",
   "id": "572907cb",
   "metadata": {
    "papermill": {
     "duration": null,
     "end_time": null,
     "exception": null,
     "start_time": null,
     "status": "pending"
    },
    "tags": []
   },
   "source": [
    "|cid|name|type|notnull|dflt_value|pk|\n",
    "|---|----|----|-------|----------|--|\n",
    "|0|ride_id|TEXT|0||0|\n",
    "|1|rideable_type|TEXT|0||0|\n",
    "|2|started_at|TEXT|0||0|\n",
    "|3|ended_at|TEXT|0||0|\n",
    "|4|start_station_name|TEXT|0||0|\n",
    "|5|start_station_id||0||0|\n",
    "|6|end_station_name|TEXT|0||0|\n",
    "|7|end_station_id||0||0|\n",
    "|8|start_lat|REAL|0||0|\n",
    "|9|start_lng|REAL|0||0|\n",
    "|10|end_lat|REAL|0||0|\n",
    "|11|end_lng|REAL|0||0|\n",
    "|12|member_casual|TEXT|0||0|\n",
    "\n"
   ]
  },
  {
   "cell_type": "markdown",
   "id": "5edb5c39",
   "metadata": {
    "papermill": {
     "duration": null,
     "end_time": null,
     "exception": null,
     "start_time": null,
     "status": "pending"
    },
    "tags": []
   },
   "source": [
    "* I noticed **the start_station_id** and **end_station_id** columns had N/A values, which aren't ideal. Since SQLite doesn't allow modify column types, I created a new table with the right data types (TEXT in this case) and transferred the data to the new table.\n"
   ]
  },
  {
   "cell_type": "code",
   "execution_count": null,
   "id": "ddaf8a5c",
   "metadata": {
    "papermill": {
     "duration": null,
     "end_time": null,
     "exception": null,
     "start_time": null,
     "status": "pending"
    },
    "tags": []
   },
   "outputs": [],
   "source": [
    "CREATE TABLE tripdata2 (\n",
    "    ride_id TEXT,\n",
    "    rideable_type TEXT,\n",
    "    started_at TEXT,\n",
    "    ended_at TEXT,\n",
    "    start_station_name TEXT,\n",
    "    start_station_id TEXT,\n",
    "    end_station_name TEXT,\n",
    "    end_station_id TEXT,\n",
    "    start_lat REAL,\n",
    "    start_lng REAL,\n",
    "    end_lat REAL,\n",
    "    end_lng REAL,\n",
    "    member_casual TEXT\n",
    "    );\n",
    "\n",
    "INSERT INTO tripdata2 SELECT * FROM tripdata;\n",
    "\n",
    "DROP TABLE tripdata;\n",
    "\n",
    "ALTER TABLE tripdata2 RENAME TO tripdata;\n"
   ]
  },
  {
   "cell_type": "code",
   "execution_count": null,
   "id": "a1eae1a4",
   "metadata": {
    "papermill": {
     "duration": null,
     "end_time": null,
     "exception": null,
     "start_time": null,
     "status": "pending"
    },
    "tags": []
   },
   "outputs": [],
   "source": [
    "--- Check for duplicate values in the \"ride_id\" column \n",
    "\n",
    "\n",
    "SELECT COUNT(DISTINCT ride_id) AS distinct_count, COUNT(*) AS total_count\n",
    "FROM tripdata;"
   ]
  },
  {
   "cell_type": "markdown",
   "id": "c318c1a8",
   "metadata": {
    "papermill": {
     "duration": null,
     "end_time": null,
     "exception": null,
     "start_time": null,
     "status": "pending"
    },
    "tags": []
   },
   "source": [
    "|distinct_count|total_count|\n",
    "|--------------|-----------|\n",
    "|5707168|5707168|\n"
   ]
  },
  {
   "cell_type": "code",
   "execution_count": null,
   "id": "0597ef4a",
   "metadata": {
    "papermill": {
     "duration": null,
     "end_time": null,
     "exception": null,
     "start_time": null,
     "status": "pending"
    },
    "tags": []
   },
   "outputs": [],
   "source": [
    "--- Add columns that list the date, month, day, and year of each ride\n",
    "\n",
    "--- Add new columns with TEXT and DATE data types\n",
    "\n",
    "ALTER TABLE tripdata\n",
    "ADD COLUMN start_date DATE;\n",
    "\n",
    "ALTER TABLE tripdata\n",
    "ADD COLUMN start_month TEXT;\n",
    "\n",
    "ALTER TABLE tripdata\n",
    "ADD COLUMN start_day TEXT;\n",
    "\n",
    "ALTER TABLE tripdata\n",
    "ADD COLUMN start_year TEXT;\n",
    "\n",
    "ALTER TABLE tripdata\n",
    "ADD COLUMN start_day_of_week TEXT;"
   ]
  },
  {
   "cell_type": "code",
   "execution_count": null,
   "id": "5858f939",
   "metadata": {
    "papermill": {
     "duration": null,
     "end_time": null,
     "exception": null,
     "start_time": null,
     "status": "pending"
    },
    "tags": []
   },
   "outputs": [],
   "source": [
    "-- Update the new columns with formatted date values\n",
    "UPDATE tripdata\n",
    "SET start_date = strftime('%Y-%m-%d', started_at),\n",
    "    start_day = strftime('%d', started_at),\n",
    "    start_year = strftime('%Y', started_at);   \n"
   ]
  },
  {
   "cell_type": "code",
   "execution_count": null,
   "id": "30a4e0c9",
   "metadata": {
    "papermill": {
     "duration": null,
     "end_time": null,
     "exception": null,
     "start_time": null,
     "status": "pending"
    },
    "tags": []
   },
   "outputs": [],
   "source": [
    "-- Update the start_month column with the month abbreviation\n",
    "UPDATE tripdata\n",
    "SET start_month = CASE \n",
    "                    WHEN substr(started_at, 6, 2) = '01' THEN 'Jan'\n",
    "                    WHEN substr(started_at, 6, 2) = '02' THEN 'Feb'\n",
    "                    WHEN substr(started_at, 6, 2) = '03' THEN 'Mar'\n",
    "                    WHEN substr(started_at, 6, 2) = '04' THEN 'Apr'\n",
    "                    WHEN substr(started_at, 6, 2) = '05' THEN 'May'\n",
    "                    WHEN substr(started_at, 6, 2) = '06' THEN 'Jun'\n",
    "                    WHEN substr(started_at, 6, 2) = '07' THEN 'Jul'\n",
    "                    WHEN substr(started_at, 6, 2) = '08' THEN 'Aug'\n",
    "                    WHEN substr(started_at, 6, 2) = '09' THEN 'Sep'\n",
    "                    WHEN substr(started_at, 6, 2) = '10' THEN 'Oct'\n",
    "                    WHEN substr(started_at, 6, 2) = '11' THEN 'Nov'\n",
    "                    ELSE 'Dec'\n",
    "                 END;"
   ]
  },
  {
   "cell_type": "code",
   "execution_count": null,
   "id": "a1e37a2b",
   "metadata": {
    "papermill": {
     "duration": null,
     "end_time": null,
     "exception": null,
     "start_time": null,
     "status": "pending"
    },
    "tags": []
   },
   "outputs": [],
   "source": [
    "-- Update the start_day_of_week column with the day of the week\n",
    "\n",
    "UPDATE tripdata\n",
    "SET start_day_of_week = CASE \n",
    "                            WHEN started_at IS NULL THEN NULL \n",
    "                            WHEN strftime('%w', started_at) = '0' THEN 'Sunday'\n",
    "                            WHEN strftime('%w', started_at) = '1' THEN 'Monday'\n",
    "                            WHEN strftime('%w', started_at) = '2' THEN 'Tuesday'\n",
    "                            WHEN strftime('%w', started_at) = '3' THEN 'Wednesday'\n",
    "                            WHEN strftime('%w', started_at) = '4' THEN 'Thursday'\n",
    "                            WHEN strftime('%w', started_at) = '5' THEN 'Friday'\n",
    "                            ELSE 'Saturday'\n",
    "                        END;\n",
    "\n",
    "                       "
   ]
  },
  {
   "cell_type": "code",
   "execution_count": null,
   "id": "671aafd5",
   "metadata": {
    "papermill": {
     "duration": null,
     "end_time": null,
     "exception": null,
     "start_time": null,
     "status": "pending"
    },
    "tags": []
   },
   "outputs": [],
   "source": [
    "-- Add ride_length column and calculate ride_length in minutes\n",
    "                      \n",
    "ALTER TABLE tripdata ADD COLUMN ride_length REAL;  \n",
    "\n",
    "\n",
    "UPDATE tripdata\n",
    "SET ride_length = ROUND((julianday(ended_at) - julianday(started_at)) * 24 * 60, 2);\n"
   ]
  },
  {
   "cell_type": "code",
   "execution_count": null,
   "id": "ce40b8dd",
   "metadata": {
    "papermill": {
     "duration": null,
     "end_time": null,
     "exception": null,
     "start_time": null,
     "status": "pending"
    },
    "tags": []
   },
   "outputs": [],
   "source": [
    "---  verify the data, including the newly added columns and any other modifications I've made\n",
    "\n",
    "SELECT * FROM tripdata LIMIT 10;"
   ]
  },
  {
   "cell_type": "markdown",
   "id": "cb2b63e5",
   "metadata": {
    "papermill": {
     "duration": null,
     "end_time": null,
     "exception": null,
     "start_time": null,
     "status": "pending"
    },
    "tags": []
   },
   "source": [
    "|ride_id|rideable_type|started_at|ended_at|start_station_name|start_station_id|end_station_name|end_station_id|start_lat|start_lng|end_lat|end_lng|member_casual|start_date|start_month|start_day|start_year|start_day_of_week|ride_length|\n",
    "|-------|-------------|----------|--------|------------------|----------------|----------------|--------------|---------|---------|-------|-------|-------------|----------|-----------|---------|----------|-----------------|-----------|\n",
    "|C1D650626C8C899A|electric_bike|2024-01-12 15:30:27|2024-01-12 15:37:59|Wells St & Elm St|KA1504000135|Kingsbury St & Kinzie St|KA1503000043|41.903267384|-87.63473677600001|41.88917683258|-87.6385057718|member|2024-01-12|Jan|12|2024|Friday|7.529999999999999|\n",
    "|EECD38BDB25BFCB0|electric_bike|2024-01-08 15:45:46|2024-01-08 15:52:59|Wells St & Elm St|KA1504000135|Kingsbury St & Kinzie St|KA1503000043|41.902936499999996|-87.63444016666666|41.88917683258|-87.6385057718|member|2024-01-08|Jan|08|2024|Monday|7.220000000000001|\n",
    "|F4A9CE78061F17F7|electric_bike|2024-01-27 12:27:19|2024-01-27 12:35:19|Wells St & Elm St|KA1504000135|Kingsbury St & Kinzie St|KA1503000043|41.90295133333333|-87.63447033333334|41.88917683258|-87.6385057718|member|2024-01-27|Jan|27|2024|Saturday|8.0|\n",
    "|0A0D9E15EE50B171|classic_bike|2024-01-29 16:26:17|2024-01-29 16:56:06|Wells St & Randolph St|TA1305000030|Larrabee St & Webster Ave|13193|41.884295|-87.63396300000002|41.921822000000006|-87.64414000000001|member|2024-01-29|Jan|29|2024|Monday|29.82|\n",
    "|33FFC9805E3EFF9A|classic_bike|2024-01-31 05:43:23|2024-01-31 06:09:35|Lincoln Ave & Waveland Ave|13253|Kingsbury St & Kinzie St|KA1503000043|41.948797|-87.675278|41.88917683258|-87.6385057718|member|2024-01-31|Jan|31|2024|Wednesday|26.2|\n",
    "|C96080812CD285C5|classic_bike|2024-01-07 11:21:24|2024-01-07 11:30:03|Wells St & Elm St|KA1504000135|Kingsbury St & Kinzie St|KA1503000043|41.90322200000001|-87.63432399999999|41.88917683258|-87.6385057718|member|2024-01-07|Jan|07|2024|Sunday|8.65|\n",
    "|0EA7CB313D4F456A|classic_bike|2024-01-05 14:44:12|2024-01-05 14:53:06|Wells St & Elm St|KA1504000135|Kingsbury St & Kinzie St|KA1503000043|41.90322200000001|-87.63432399999999|41.88917683258|-87.6385057718|member|2024-01-05|Jan|05|2024|Friday|8.9|\n",
    "|EE11F3A3B39CFBD8|electric_bike|2024-01-04 18:19:53|2024-01-04 18:28:04|Wells St & Elm St|KA1504000135|Kingsbury St & Kinzie St|KA1503000043|41.90336811499999|-87.63486135|41.88917683258|-87.6385057718|member|2024-01-04|Jan|04|2024|Thursday|8.18|\n",
    "|63E83DE8E3279F15|classic_bike|2024-01-01 14:46:53|2024-01-01 14:57:02|Wells St & Elm St|KA1504000135|Kingsbury St & Kinzie St|KA1503000043|41.90322200000001|-87.63432399999999|41.88917683258|-87.6385057718|member|2024-01-01|Jan|01|2024|Monday|10.15|\n",
    "|8005682869122D93|electric_bike|2024-01-03 19:31:08|2024-01-03 19:40:05|Clark St & Ida B Wells Dr|TA1305000009|Kingsbury St & Kinzie St|KA1503000043|41.876033500000005|-87.630866|41.88917683258|-87.6385057718|member|2024-01-03|Jan|03|2024|Wednesday|8.95|\n"
   ]
  },
  {
   "cell_type": "code",
   "execution_count": null,
   "id": "2bfe2a2d",
   "metadata": {
    "papermill": {
     "duration": null,
     "end_time": null,
     "exception": null,
     "start_time": null,
     "status": "pending"
    },
    "tags": []
   },
   "outputs": [],
   "source": [
    "/* \n",
    "* Remove rows FROM the tripdata table where the start_station_name is \"HQ QR\" or the ride_length is less than or equal to 0\n",
    "***** NOTE !!! Back up your data if you want to avoid permanent data loss\n",
    "*/\n",
    "\n",
    "DELETE FROM tripdata WHERE start_station_name = 'HQ QR' OR ride_length <= 0;"
   ]
  },
  {
   "cell_type": "code",
   "execution_count": null,
   "id": "ac0adba4",
   "metadata": {
    "papermill": {
     "duration": null,
     "end_time": null,
     "exception": null,
     "start_time": null,
     "status": "pending"
    },
    "tags": []
   },
   "outputs": [],
   "source": [
    "--  Calculate the minimum, MAXimum, average values of the ride_length column\n",
    "\n",
    "SELECT\n",
    "    MIN(ride_length) AS min_ride_length,\n",
    "    MAX(ride_length) AS MAX_ride_length,\n",
    "    AVG(ride_length) AS avg_ride_length\n",
    "FROM tripdata;\n"
   ]
  },
  {
   "cell_type": "markdown",
   "id": "654cfe6f",
   "metadata": {
    "papermill": {
     "duration": null,
     "end_time": null,
     "exception": null,
     "start_time": null,
     "status": "pending"
    },
    "tags": []
   },
   "source": [
    "|min_ride_length|MAX_ride_length|avg_ride_length|\n",
    "|---------------|---------------|---------------|\n",
    "|0.02|98489.06999999999|18.33351781465149|\n"
   ]
  },
  {
   "cell_type": "code",
   "execution_count": null,
   "id": "073dd6c3",
   "metadata": {
    "papermill": {
     "duration": null,
     "end_time": null,
     "exception": null,
     "start_time": null,
     "status": "pending"
    },
    "tags": []
   },
   "outputs": [],
   "source": [
    "SELECT member_casual,\n",
    "    MIN(ride_length) AS min_ride_length,\n",
    "    MAX(ride_length) AS MAX_ride_length,\n",
    "    AVG(ride_length) AS avg_ride_length\n",
    "FROM tripdata \n",
    "GROUP BY member_casual "
   ]
  },
  {
   "cell_type": "markdown",
   "id": "598c82af",
   "metadata": {
    "papermill": {
     "duration": null,
     "end_time": null,
     "exception": null,
     "start_time": null,
     "status": "pending"
    },
    "tags": []
   },
   "source": [
    "|member_casual|min_ride_length|MAX_ride_length|avg_ride_length|\n",
    "|-------------|---------------|---------------|---------------|\n",
    "|casual|0.02|98489.06999999999|28.311242518458094|\n",
    "|member|0.02|1559.67|12.750348870708166|\n"
   ]
  },
  {
   "cell_type": "code",
   "execution_count": null,
   "id": "77e7840b",
   "metadata": {
    "papermill": {
     "duration": null,
     "end_time": null,
     "exception": null,
     "start_time": null,
     "status": "pending"
    },
    "tags": []
   },
   "outputs": [],
   "source": [
    "-- The Maximum ride length for casual riders is exceptionally high at 98,489 minutes (about 68 days)\n",
    "-- Both casual riders and members have a minimum ride length of 0.02 minutes, which requires correction\n",
    " \n",
    "-- Lets remove rows FROM the tripdata table where ride_length is either greater than or equal to 1440 \n",
    "(rides longer than a day) or less than 2 (rides less than 2 minutes)\n",
    "\n",
    "-- NOTE !!! Back up your data if you want to avoid permanent data loss\n",
    "\n",
    "\n",
    "DELETE FROM tripdata\n",
    "WHERE ride_length >= 1440 OR ride_length < 2;"
   ]
  },
  {
   "cell_type": "code",
   "execution_count": null,
   "id": "bbec99b4",
   "metadata": {
    "papermill": {
     "duration": null,
     "end_time": null,
     "exception": null,
     "start_time": null,
     "status": "pending"
    },
    "tags": []
   },
   "outputs": [],
   "source": [
    "-- We know the user base consists of members and casual riders and different types of bikes are offered \n",
    "to users. Lets see if our data backs this up\n",
    "\n",
    "\n",
    "SELECT DISTINCT member_casual FROM tripdata;\n",
    "\n",
    "SELECT DISTINCT rideable_type FROM tripdata;"
   ]
  },
  {
   "cell_type": "markdown",
   "id": "d98f2a95",
   "metadata": {
    "papermill": {
     "duration": null,
     "end_time": null,
     "exception": null,
     "start_time": null,
     "status": "pending"
    },
    "tags": []
   },
   "source": [
    "|rideable_type|             |member_casual|  \n",
    "|-------------|             |-------------|\n",
    "|electric_bike|             |member|\n",
    "|classic_bike|              |casual|\n",
    "|docked_bike|\n",
    "\n",
    "\n",
    "\n",
    "\n",
    "\n"
   ]
  },
  {
   "cell_type": "code",
   "execution_count": null,
   "id": "eabe6728",
   "metadata": {
    "papermill": {
     "duration": null,
     "end_time": null,
     "exception": null,
     "start_time": null,
     "status": "pending"
    },
    "tags": []
   },
   "outputs": [],
   "source": [
    "--The use of bike types between members and casual riders\n",
    "\n",
    "SELECT member_casual as User_Type, rideable_type as Bike_Type, COUNT(rideable_type) as Counts\n",
    "FROM tripdata \n",
    "GROUP BY member_casual, rideable_type \n"
   ]
  },
  {
   "cell_type": "markdown",
   "id": "7ea12f5e",
   "metadata": {
    "papermill": {
     "duration": null,
     "end_time": null,
     "exception": null,
     "start_time": null,
     "status": "pending"
    },
    "tags": []
   },
   "source": [
    "|User_Type|Bike_Type|Counts|\n",
    "|---------|---------|------|\n",
    "|casual|classic_bike|860050|\n",
    "|casual|docked_bike|71939|\n",
    "|casual|electric_bike|1028217|\n",
    "|member|classic_bike|1778631|\n",
    "|member|electric_bike|1703228|\n"
   ]
  },
  {
   "cell_type": "code",
   "execution_count": null,
   "id": "23252bae",
   "metadata": {
    "papermill": {
     "duration": null,
     "end_time": null,
     "exception": null,
     "start_time": null,
     "status": "pending"
    },
    "tags": []
   },
   "outputs": [],
   "source": [
    "-- Analyze ridership data by each day for members vs casual riders\n",
    "    \n",
    "SELECT member_casual, start_day_of_week, COUNT(*) as number_of_rides,\n",
    "       ROUND(AVG(ride_length),2) as average_duration\n",
    "FROM tripdata \n",
    "GROUP BY member_casual, start_day_of_week ;  "
   ]
  },
  {
   "cell_type": "markdown",
   "id": "0d252cf1",
   "metadata": {
    "papermill": {
     "duration": null,
     "end_time": null,
     "exception": null,
     "start_time": null,
     "status": "pending"
    },
    "tags": []
   },
   "source": [
    "|member_casual|start_day_of_week|number_of_rides|average_duration|\n",
    "|-------------|-----------------|---------------|----------------|\n",
    "|casual|Friday|298859|20.98|\n",
    "|casual|Monday|223046|21.38|\n",
    "|casual|Saturday|388725|24.47|\n",
    "|casual|Sunday|314403|25.22|\n",
    "|casual|Thursday|262864|18.75|\n",
    "|casual|Tuesday|233246|19.54|\n",
    "|casual|Wednesday|239063|18.46|\n",
    "|member|Friday|504544|12.64|\n",
    "|member|Monday|469069|12.12|\n",
    "|member|Saturday|442174|14.15|\n",
    "|member|Sunday|379331|14.14|\n",
    "|member|Thursday|577549|12.19|\n",
    "|member|Tuesday|541749|12.31|\n",
    "|member|Wednesday|567443|12.2|\n"
   ]
  },
  {
   "cell_type": "code",
   "execution_count": null,
   "id": "0457bc48",
   "metadata": {
    "papermill": {
     "duration": null,
     "end_time": null,
     "exception": null,
     "start_time": null,
     "status": "pending"
    },
    "tags": []
   },
   "outputs": [],
   "source": [
    "\n",
    "--Number of Rides per Hour for Casual Riders and Members\n",
    "\n",
    "SELECT member_casual, strftime('%H', started_at) as start_hour_of_day, COUNT(*) AS num_of_rides\n",
    "FROM tripdata\n",
    "GROUP BY member_casual, strftime('%H', started_at);"
   ]
  },
  {
   "cell_type": "markdown",
   "id": "ef5f0990",
   "metadata": {
    "papermill": {
     "duration": null,
     "end_time": null,
     "exception": null,
     "start_time": null,
     "status": "pending"
    },
    "tags": []
   },
   "source": [
    "|member_casual|start_hour_of_day|num_of_rides|\n",
    "|-------------|-----------------|------------|\n",
    "|casual|00|34648|\n",
    "|casual|01|22465|\n",
    "|casual|02|13491|\n",
    "|casual|03|7446|\n",
    "|casual|04|5532|\n",
    "|casual|05|10700|\n",
    "|casual|06|28276|\n",
    "|casual|07|50409|\n",
    "|casual|08|67755|\n",
    "|casual|09|66802|\n",
    "|casual|10|82845|\n",
    "|casual|11|105417|\n",
    "|casual|12|125058|\n",
    "|casual|13|130108|\n",
    "|casual|14|135460|\n",
    "|casual|15|151504|\n",
    "|casual|16|174154|\n",
    "|casual|17|190693|\n",
    "|casual|18|164159|\n",
    "|casual|19|121061|\n",
    "|casual|20|87459|\n",
    "|casual|21|73203|\n",
    "|casual|22|64986|\n",
    "|casual|23|46575|\n",
    "|member|00|33067|\n",
    "|member|01|19641|\n",
    "|member|02|11238|\n",
    "|member|03|7477|\n",
    "|member|04|8251|\n",
    "|member|05|32311|\n",
    "|member|06|100500|\n",
    "|member|07|186943|\n",
    "|member|08|234515|\n",
    "|member|09|156639|\n",
    "|member|10|140380|\n",
    "|member|11|166828|\n",
    "|member|12|188774|\n",
    "|member|13|187726|\n",
    "|member|14|191604|\n",
    "|member|15|234564|\n",
    "|member|16|318036|\n",
    "|member|17|372241|\n",
    "|member|18|293092|\n",
    "|member|19|206824|\n",
    "|member|20|143923|\n",
    "|member|21|111330|\n",
    "|member|22|83141|\n",
    "|member|23|52814|\n"
   ]
  },
  {
   "cell_type": "code",
   "execution_count": null,
   "id": "53cb1ec9",
   "metadata": {
    "papermill": {
     "duration": null,
     "end_time": null,
     "exception": null,
     "start_time": null,
     "status": "pending"
    },
    "tags": []
   },
   "outputs": [],
   "source": [
    "----Analyze ridership data by each month for members vs casual riders\n",
    "\n",
    "SELECT member_casual, start_month, COUNT(*) as number_of_rides, ROUND(AVG(ride_length),2)  as average_duration\n",
    "FROM tripdata \n",
    "GROUP BY member_casual,start_month;"
   ]
  },
  {
   "cell_type": "markdown",
   "id": "0f834f9e",
   "metadata": {
    "papermill": {
     "duration": null,
     "end_time": null,
     "exception": null,
     "start_time": null,
     "status": "pending"
    },
    "tags": []
   },
   "source": [
    "|member_casual|start_month|number_of_rides|average_duration|\n",
    "|-------------|-----------|---------------|----------------|\n",
    "|casual|Apr|139990|21.7|\n",
    "|casual|Aug|298520|22.74|\n",
    "|casual|Dec|49546|15.19|\n",
    "|casual|Feb|45390|18.68|\n",
    "|casual|Jan|23185|14.29|\n",
    "|casual|Jul|316965|23.8|\n",
    "|casual|Jun|288044|22.68|\n",
    "|casual|Mar|59133|16.08|\n",
    "|casual|May|223304|23.15|\n",
    "|casual|Nov|94577|16.62|\n",
    "|casual|Oct|169954|19.67|\n",
    "|casual|Sep|251598|21.9|\n",
    "|member|Apr|262026|12.16|\n",
    "|member|Aug|440305|13.72|\n",
    "|member|Dec|163864|11.26|\n",
    "|member|Feb|168544|12.17|\n",
    "|member|Jan|113005|11.94|\n",
    "|member|Jul|415622|13.8|\n",
    "|member|Jun|398924|13.43|\n",
    "|member|Mar|183565|10.84|\n",
    "|member|May|351231|13.2|\n",
    "|member|Nov|252101|11.47|\n",
    "|member|Oct|344335|12.03|\n",
    "|member|Sep|388337|13.1|\n"
   ]
  },
  {
   "cell_type": "code",
   "execution_count": null,
   "id": "98a4b063",
   "metadata": {
    "papermill": {
     "duration": null,
     "end_time": null,
     "exception": null,
     "start_time": null,
     "status": "pending"
    },
    "tags": []
   },
   "outputs": [],
   "source": [
    "-- TOP TEN START STATIONS BY USER TYPE\n",
    "\n",
    "SELECT member_casual, start_station_name, count(*) as number_of_rides\n",
    "FROM tripdata  \n",
    "WHERE start_station_name <> '' AND start_station_name IS NOT NULL AND member_casual = 'member'\n",
    "GROUP BY member_casual, start_station_name \n",
    "ORDER BY count(*) DESC\n",
    "LIMIT 10\n",
    "\n",
    "\n",
    "\n",
    "SELECT member_casual, start_station_name, count(*) as number_of_rides\n",
    "FROM tripdata  \n",
    "WHERE start_station_name <> '' AND start_station_name IS NOT NULL AND member_casual = 'casual'\n",
    "GROUP BY member_casual, start_station_name \n",
    "ORDER BY count(*) DESC\n",
    "LIMIT 10\n"
   ]
  },
  {
   "cell_type": "markdown",
   "id": "0f388c2e",
   "metadata": {
    "papermill": {
     "duration": null,
     "end_time": null,
     "exception": null,
     "start_time": null,
     "status": "pending"
    },
    "tags": []
   },
   "source": [
    "|member_casual|start_station_name|number_of_rides|\n",
    "|-------------|------------------|---------------|\n",
    "|member|Clinton St & Washington Blvd|25604|\n",
    "|member|Kingsbury St & Kinzie St|25588|\n",
    "|member|Clark St & Elm St|24135|\n",
    "|member|Wells St & Concord Ln|20391|\n",
    "|member|Clinton St & Madison St|20191|\n",
    "|member|Wells St & Elm St|19555|\n",
    "|member|Broadway & Barry Ave|18413|\n",
    "|member|University Ave & 57th St|18068|\n",
    "|member|Loomis St & Lexington St|17590|\n",
    "|member|Canal St & Adams St|16874|\n"
   ]
  },
  {
   "cell_type": "markdown",
   "id": "f033f9da",
   "metadata": {
    "papermill": {
     "duration": null,
     "end_time": null,
     "exception": null,
     "start_time": null,
     "status": "pending"
    },
    "tags": []
   },
   "source": [
    "|member_casual|start_station_name|number_of_rides|\n",
    "|-------------|------------------|---------------|\n",
    "|casual|Streeter Dr & Grand Ave|44304|\n",
    "|casual|DuSable Lake Shore Dr & Monroe St|29403|\n",
    "|casual|Michigan Ave & Oak St|21991|\n",
    "|casual|DuSable Lake Shore Dr & North Blvd|19744|\n",
    "|casual|Millennium Park|19301|\n",
    "|casual|Shedd Aquarium|16980|\n",
    "|casual|Theater on the Lake|15866|\n",
    "|casual|Dusable Harbor|14912|\n",
    "|casual|Wells St & Concord Ln|11719|\n",
    "|casual|Adler Planetarium|11536|\n"
   ]
  }
 ],
 "metadata": {
  "kaggle": {
   "accelerator": "none",
   "dataSources": [],
   "dockerImageVersionId": 30618,
   "isGpuEnabled": false,
   "isInternetEnabled": false,
   "language": "r",
   "sourceType": "notebook"
  },
  "kernelspec": {
   "display_name": "R",
   "language": "R",
   "name": "ir"
  },
  "language_info": {
   "codemirror_mode": "r",
   "file_extension": ".r",
   "mimetype": "text/x-r-source",
   "name": "R",
   "pygments_lexer": "r",
   "version": "4.0.5"
  },
  "papermill": {
   "default_parameters": {},
   "duration": 3.494073,
   "end_time": "2024-07-09T12:38:20.169208",
   "environment_variables": {},
   "exception": true,
   "input_path": "__notebook__.ipynb",
   "output_path": "__notebook__.ipynb",
   "parameters": {},
   "start_time": "2024-07-09T12:38:16.675135",
   "version": "2.5.0"
  }
 },
 "nbformat": 4,
 "nbformat_minor": 5
}
